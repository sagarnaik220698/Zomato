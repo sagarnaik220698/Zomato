{
  "nbformat": 4,
  "nbformat_minor": 0,
  "metadata": {
    "colab": {
      "name": "Zomato.ipynb",
      "provenance": [],
      "collapsed_sections": [],
      "authorship_tag": "ABX9TyNoEyWUhDVE+5dWw1SovDVK",
      "include_colab_link": true
    },
    "kernelspec": {
      "name": "python3",
      "display_name": "Python 3"
    },
    "language_info": {
      "name": "python"
    }
  },
  "cells": [
    {
      "cell_type": "markdown",
      "metadata": {
        "id": "view-in-github",
        "colab_type": "text"
      },
      "source": [
        "<a href=\"https://colab.research.google.com/github/TanuRajput110/Zomato-EDA/blob/main/Zomato.ipynb\" target=\"_parent\"><img src=\"https://colab.research.google.com/assets/colab-badge.svg\" alt=\"Open In Colab\"/></a>"
      ]
    },
    {
      "cell_type": "markdown",
      "source": [
        "#**Zomato(EDA)**"
      ],
      "metadata": {
        "id": "ZMYoZdBzfZOL"
      }
    },
    {
      "cell_type": "markdown",
      "source": [
        "##**1---Preprocessing The Data**"
      ],
      "metadata": {
        "id": "rnDqo2KWgA52"
      }
    },
    {
      "cell_type": "markdown",
      "source": [
        "###import libraries and load dataset\n",
        "\n",
        "\n",
        "\n"
      ],
      "metadata": {
        "id": "zS5VpeiDhqRG"
      }
    },
    {
      "cell_type": "code",
      "source": [
        "import pandas as pd\n",
        "import seaborn as sns\n",
        "import matplotlib.pyplot as plt\n",
        "import matplotlib"
      ],
      "metadata": {
        "id": "sCJfjEhZhPS-"
      },
      "execution_count": null,
      "outputs": []
    },
    {
      "cell_type": "code",
      "source": [
        "#set size for figures\n",
        "matplotlib.rcParams['figure.figsize']=(12,6)"
      ],
      "metadata": {
        "id": "70MDFinSob34"
      },
      "execution_count": null,
      "outputs": []
    },
    {
      "cell_type": "code",
      "source": [
        "#import drive into collab\n",
        "from google.colab import drive\n",
        "drive.mount('/content/gdrive')"
      ],
      "metadata": {
        "colab": {
          "base_uri": "https://localhost:8080/"
        },
        "id": "GTuvL8zIg52F",
        "outputId": "11a54d90-6a55-449a-c6b8-64b82486d212"
      },
      "execution_count": null,
      "outputs": [
        {
          "output_type": "stream",
          "name": "stdout",
          "text": [
            "Drive already mounted at /content/gdrive; to attempt to forcibly remount, call drive.mount(\"/content/gdrive\", force_remount=True).\n"
          ]
        }
      ]
    },
    {
      "cell_type": "code",
      "source": [
        "#read the csv file (first dataframe) and store it into a variable\n",
        "df=pd.read_csv('/content/gdrive/MyDrive/projects and csv/zomato..csv',encoding='latin-1')"
      ],
      "metadata": {
        "id": "tRjmo6X2fpj7"
      },
      "execution_count": null,
      "outputs": []
    },
    {
      "cell_type": "code",
      "source": [
        "#top 5 rows of dataframe\n",
        "df.head()"
      ],
      "metadata": {
        "colab": {
          "base_uri": "https://localhost:8080/",
          "height": 721
        },
        "id": "gXLwnKDsov7e",
        "outputId": "4bb8678d-d5d6-4417-d052-fbe3b6b27a48"
      },
      "execution_count": null,
      "outputs": [
        {
          "output_type": "execute_result",
          "data": {
            "text/html": [
              "\n",
              "  <div id=\"df-d8734b57-1143-4e02-8400-30054c2b871d\">\n",
              "    <div class=\"colab-df-container\">\n",
              "      <div>\n",
              "<style scoped>\n",
              "    .dataframe tbody tr th:only-of-type {\n",
              "        vertical-align: middle;\n",
              "    }\n",
              "\n",
              "    .dataframe tbody tr th {\n",
              "        vertical-align: top;\n",
              "    }\n",
              "\n",
              "    .dataframe thead th {\n",
              "        text-align: right;\n",
              "    }\n",
              "</style>\n",
              "<table border=\"1\" class=\"dataframe\">\n",
              "  <thead>\n",
              "    <tr style=\"text-align: right;\">\n",
              "      <th></th>\n",
              "      <th>Restaurant ID</th>\n",
              "      <th>Restaurant Name</th>\n",
              "      <th>Country Code</th>\n",
              "      <th>City</th>\n",
              "      <th>Address</th>\n",
              "      <th>Locality</th>\n",
              "      <th>Locality Verbose</th>\n",
              "      <th>Longitude</th>\n",
              "      <th>Latitude</th>\n",
              "      <th>Cuisines</th>\n",
              "      <th>Average Cost for two</th>\n",
              "      <th>Currency</th>\n",
              "      <th>Has Table booking</th>\n",
              "      <th>Has Online delivery</th>\n",
              "      <th>Is delivering now</th>\n",
              "      <th>Switch to order menu</th>\n",
              "      <th>Price range</th>\n",
              "      <th>Aggregate rating</th>\n",
              "      <th>Rating color</th>\n",
              "      <th>Rating text</th>\n",
              "      <th>Votes</th>\n",
              "    </tr>\n",
              "  </thead>\n",
              "  <tbody>\n",
              "    <tr>\n",
              "      <th>0</th>\n",
              "      <td>6317637</td>\n",
              "      <td>Le Petit Souffle</td>\n",
              "      <td>162</td>\n",
              "      <td>Makati City</td>\n",
              "      <td>Third Floor Century City Mall Kalayaan Avenue ...</td>\n",
              "      <td>Century City Mall Poblacion Makati City</td>\n",
              "      <td>Century City Mall Poblacion Makati City Makati...</td>\n",
              "      <td>121.027535</td>\n",
              "      <td>14.565443</td>\n",
              "      <td>French Japanese Desserts</td>\n",
              "      <td>1100</td>\n",
              "      <td>Botswana Pula(P)</td>\n",
              "      <td>Yes</td>\n",
              "      <td>No</td>\n",
              "      <td>No</td>\n",
              "      <td>No</td>\n",
              "      <td>3</td>\n",
              "      <td>4.8</td>\n",
              "      <td>Dark Green</td>\n",
              "      <td>Excellent</td>\n",
              "      <td>314</td>\n",
              "    </tr>\n",
              "    <tr>\n",
              "      <th>1</th>\n",
              "      <td>6304287</td>\n",
              "      <td>Izakaya Kikufuji</td>\n",
              "      <td>162</td>\n",
              "      <td>Makati City</td>\n",
              "      <td>Little Tokyo 2277 Chino Roces Avenue Legaspi V...</td>\n",
              "      <td>Little Tokyo Legaspi Village Makati City</td>\n",
              "      <td>Little Tokyo Legaspi Village Makati City Makat...</td>\n",
              "      <td>121.014101</td>\n",
              "      <td>14.553708</td>\n",
              "      <td>Japanese</td>\n",
              "      <td>1200</td>\n",
              "      <td>Botswana Pula(P)</td>\n",
              "      <td>Yes</td>\n",
              "      <td>No</td>\n",
              "      <td>No</td>\n",
              "      <td>No</td>\n",
              "      <td>3</td>\n",
              "      <td>4.5</td>\n",
              "      <td>Dark Green</td>\n",
              "      <td>Excellent</td>\n",
              "      <td>591</td>\n",
              "    </tr>\n",
              "    <tr>\n",
              "      <th>2</th>\n",
              "      <td>6300002</td>\n",
              "      <td>Heat  Edsa ShangriLa</td>\n",
              "      <td>162</td>\n",
              "      <td>Mandaluyong City</td>\n",
              "      <td>Edsa ShangriLa 1 Garden Way Ortigas Mandaluyon...</td>\n",
              "      <td>Edsa ShangriLa Ortigas Mandaluyong City</td>\n",
              "      <td>Edsa ShangriLa Ortigas Mandaluyong City Mandal...</td>\n",
              "      <td>121.056831</td>\n",
              "      <td>14.581404</td>\n",
              "      <td>Seafood Asian Filipino Indian</td>\n",
              "      <td>4000</td>\n",
              "      <td>Botswana Pula(P)</td>\n",
              "      <td>Yes</td>\n",
              "      <td>No</td>\n",
              "      <td>No</td>\n",
              "      <td>No</td>\n",
              "      <td>4</td>\n",
              "      <td>4.4</td>\n",
              "      <td>Green</td>\n",
              "      <td>Very Good</td>\n",
              "      <td>270</td>\n",
              "    </tr>\n",
              "    <tr>\n",
              "      <th>3</th>\n",
              "      <td>6318506</td>\n",
              "      <td>Ooma</td>\n",
              "      <td>162</td>\n",
              "      <td>Mandaluyong City</td>\n",
              "      <td>Third Floor Mega Fashion Hall SM Megamall Orti...</td>\n",
              "      <td>SM Megamall Ortigas Mandaluyong City</td>\n",
              "      <td>SM Megamall Ortigas Mandaluyong City Mandaluyo...</td>\n",
              "      <td>121.056475</td>\n",
              "      <td>14.585318</td>\n",
              "      <td>Japanese Sushi</td>\n",
              "      <td>1500</td>\n",
              "      <td>Botswana Pula(P)</td>\n",
              "      <td>No</td>\n",
              "      <td>No</td>\n",
              "      <td>No</td>\n",
              "      <td>No</td>\n",
              "      <td>4</td>\n",
              "      <td>4.9</td>\n",
              "      <td>Dark Green</td>\n",
              "      <td>Excellent</td>\n",
              "      <td>365</td>\n",
              "    </tr>\n",
              "    <tr>\n",
              "      <th>4</th>\n",
              "      <td>6314302</td>\n",
              "      <td>Sambo Kojin</td>\n",
              "      <td>162</td>\n",
              "      <td>Mandaluyong City</td>\n",
              "      <td>Third Floor Mega Atrium SM Megamall Ortigas Ma...</td>\n",
              "      <td>SM Megamall Ortigas Mandaluyong City</td>\n",
              "      <td>SM Megamall Ortigas Mandaluyong City Mandaluyo...</td>\n",
              "      <td>121.057508</td>\n",
              "      <td>14.584450</td>\n",
              "      <td>Japanese Korean</td>\n",
              "      <td>1500</td>\n",
              "      <td>Botswana Pula(P)</td>\n",
              "      <td>Yes</td>\n",
              "      <td>No</td>\n",
              "      <td>No</td>\n",
              "      <td>No</td>\n",
              "      <td>4</td>\n",
              "      <td>4.8</td>\n",
              "      <td>Dark Green</td>\n",
              "      <td>Excellent</td>\n",
              "      <td>229</td>\n",
              "    </tr>\n",
              "  </tbody>\n",
              "</table>\n",
              "</div>\n",
              "      <button class=\"colab-df-convert\" onclick=\"convertToInteractive('df-d8734b57-1143-4e02-8400-30054c2b871d')\"\n",
              "              title=\"Convert this dataframe to an interactive table.\"\n",
              "              style=\"display:none;\">\n",
              "        \n",
              "  <svg xmlns=\"http://www.w3.org/2000/svg\" height=\"24px\"viewBox=\"0 0 24 24\"\n",
              "       width=\"24px\">\n",
              "    <path d=\"M0 0h24v24H0V0z\" fill=\"none\"/>\n",
              "    <path d=\"M18.56 5.44l.94 2.06.94-2.06 2.06-.94-2.06-.94-.94-2.06-.94 2.06-2.06.94zm-11 1L8.5 8.5l.94-2.06 2.06-.94-2.06-.94L8.5 2.5l-.94 2.06-2.06.94zm10 10l.94 2.06.94-2.06 2.06-.94-2.06-.94-.94-2.06-.94 2.06-2.06.94z\"/><path d=\"M17.41 7.96l-1.37-1.37c-.4-.4-.92-.59-1.43-.59-.52 0-1.04.2-1.43.59L10.3 9.45l-7.72 7.72c-.78.78-.78 2.05 0 2.83L4 21.41c.39.39.9.59 1.41.59.51 0 1.02-.2 1.41-.59l7.78-7.78 2.81-2.81c.8-.78.8-2.07 0-2.86zM5.41 20L4 18.59l7.72-7.72 1.47 1.35L5.41 20z\"/>\n",
              "  </svg>\n",
              "      </button>\n",
              "      \n",
              "  <style>\n",
              "    .colab-df-container {\n",
              "      display:flex;\n",
              "      flex-wrap:wrap;\n",
              "      gap: 12px;\n",
              "    }\n",
              "\n",
              "    .colab-df-convert {\n",
              "      background-color: #E8F0FE;\n",
              "      border: none;\n",
              "      border-radius: 50%;\n",
              "      cursor: pointer;\n",
              "      display: none;\n",
              "      fill: #1967D2;\n",
              "      height: 32px;\n",
              "      padding: 0 0 0 0;\n",
              "      width: 32px;\n",
              "    }\n",
              "\n",
              "    .colab-df-convert:hover {\n",
              "      background-color: #E2EBFA;\n",
              "      box-shadow: 0px 1px 2px rgba(60, 64, 67, 0.3), 0px 1px 3px 1px rgba(60, 64, 67, 0.15);\n",
              "      fill: #174EA6;\n",
              "    }\n",
              "\n",
              "    [theme=dark] .colab-df-convert {\n",
              "      background-color: #3B4455;\n",
              "      fill: #D2E3FC;\n",
              "    }\n",
              "\n",
              "    [theme=dark] .colab-df-convert:hover {\n",
              "      background-color: #434B5C;\n",
              "      box-shadow: 0px 1px 3px 1px rgba(0, 0, 0, 0.15);\n",
              "      filter: drop-shadow(0px 1px 2px rgba(0, 0, 0, 0.3));\n",
              "      fill: #FFFFFF;\n",
              "    }\n",
              "  </style>\n",
              "\n",
              "      <script>\n",
              "        const buttonEl =\n",
              "          document.querySelector('#df-d8734b57-1143-4e02-8400-30054c2b871d button.colab-df-convert');\n",
              "        buttonEl.style.display =\n",
              "          google.colab.kernel.accessAllowed ? 'block' : 'none';\n",
              "\n",
              "        async function convertToInteractive(key) {\n",
              "          const element = document.querySelector('#df-d8734b57-1143-4e02-8400-30054c2b871d');\n",
              "          const dataTable =\n",
              "            await google.colab.kernel.invokeFunction('convertToInteractive',\n",
              "                                                     [key], {});\n",
              "          if (!dataTable) return;\n",
              "\n",
              "          const docLinkHtml = 'Like what you see? Visit the ' +\n",
              "            '<a target=\"_blank\" href=https://colab.research.google.com/notebooks/data_table.ipynb>data table notebook</a>'\n",
              "            + ' to learn more about interactive tables.';\n",
              "          element.innerHTML = '';\n",
              "          dataTable['output_type'] = 'display_data';\n",
              "          await google.colab.output.renderOutput(dataTable, element);\n",
              "          const docLink = document.createElement('div');\n",
              "          docLink.innerHTML = docLinkHtml;\n",
              "          element.appendChild(docLink);\n",
              "        }\n",
              "      </script>\n",
              "    </div>\n",
              "  </div>\n",
              "  "
            ],
            "text/plain": [
              "   Restaurant ID       Restaurant Name  ...  Rating text Votes\n",
              "0        6317637      Le Petit Souffle  ...    Excellent   314\n",
              "1        6304287      Izakaya Kikufuji  ...    Excellent   591\n",
              "2        6300002  Heat  Edsa ShangriLa  ...    Very Good   270\n",
              "3        6318506                  Ooma  ...    Excellent   365\n",
              "4        6314302           Sambo Kojin  ...    Excellent   229\n",
              "\n",
              "[5 rows x 21 columns]"
            ]
          },
          "metadata": {},
          "execution_count": 10
        }
      ]
    },
    {
      "cell_type": "code",
      "source": [
        "#shape of dataframe\n",
        "df.shape"
      ],
      "metadata": {
        "colab": {
          "base_uri": "https://localhost:8080/"
        },
        "id": "S9rtBv67rBv6",
        "outputId": "af5a19b7-2235-4548-8c4a-f435e0c9969b"
      },
      "execution_count": null,
      "outputs": [
        {
          "output_type": "execute_result",
          "data": {
            "text/plain": [
              "(9551, 21)"
            ]
          },
          "metadata": {},
          "execution_count": 11
        }
      ]
    },
    {
      "cell_type": "code",
      "source": [
        "#Name of all columns we have\n",
        "df.columns"
      ],
      "metadata": {
        "colab": {
          "base_uri": "https://localhost:8080/"
        },
        "id": "WQf5pqDNotWo",
        "outputId": "6cb128a0-f474-4ee3-83f1-b12946779908"
      },
      "execution_count": null,
      "outputs": [
        {
          "output_type": "execute_result",
          "data": {
            "text/plain": [
              "Index(['Restaurant ID', 'Restaurant Name', 'Country Code', 'City', 'Address',\n",
              "       'Locality', 'Locality Verbose', 'Longitude', 'Latitude', 'Cuisines',\n",
              "       'Average Cost for two', 'Currency', 'Has Table booking',\n",
              "       'Has Online delivery', 'Is delivering now', 'Switch to order menu',\n",
              "       'Price range', 'Aggregate rating', 'Rating color', 'Rating text',\n",
              "       'Votes'],\n",
              "      dtype='object')"
            ]
          },
          "metadata": {},
          "execution_count": 12
        }
      ]
    },
    {
      "cell_type": "code",
      "source": [
        "#information of dataframe\n",
        "df.info()"
      ],
      "metadata": {
        "colab": {
          "base_uri": "https://localhost:8080/"
        },
        "id": "4VnpmSYDphwN",
        "outputId": "772d76f3-39cf-4ecf-aca0-69b716be7545"
      },
      "execution_count": null,
      "outputs": [
        {
          "output_type": "stream",
          "name": "stdout",
          "text": [
            "<class 'pandas.core.frame.DataFrame'>\n",
            "RangeIndex: 9551 entries, 0 to 9550\n",
            "Data columns (total 21 columns):\n",
            " #   Column                Non-Null Count  Dtype  \n",
            "---  ------                --------------  -----  \n",
            " 0   Restaurant ID         9551 non-null   int64  \n",
            " 1   Restaurant Name       9551 non-null   object \n",
            " 2   Country Code          9551 non-null   int64  \n",
            " 3   City                  9551 non-null   object \n",
            " 4   Address               9551 non-null   object \n",
            " 5   Locality              9551 non-null   object \n",
            " 6   Locality Verbose      9551 non-null   object \n",
            " 7   Longitude             9551 non-null   float64\n",
            " 8   Latitude              9551 non-null   float64\n",
            " 9   Cuisines              9542 non-null   object \n",
            " 10  Average Cost for two  9551 non-null   int64  \n",
            " 11  Currency              9551 non-null   object \n",
            " 12  Has Table booking     9551 non-null   object \n",
            " 13  Has Online delivery   9551 non-null   object \n",
            " 14  Is delivering now     9551 non-null   object \n",
            " 15  Switch to order menu  9551 non-null   object \n",
            " 16  Price range           9551 non-null   int64  \n",
            " 17  Aggregate rating      9551 non-null   float64\n",
            " 18  Rating color          9551 non-null   object \n",
            " 19  Rating text           9551 non-null   object \n",
            " 20  Votes                 9551 non-null   int64  \n",
            "dtypes: float64(3), int64(5), object(13)\n",
            "memory usage: 1.5+ MB\n"
          ]
        }
      ]
    },
    {
      "cell_type": "code",
      "source": [
        "#descriptive information\n",
        "df.describe()"
      ],
      "metadata": {
        "colab": {
          "base_uri": "https://localhost:8080/",
          "height": 300
        },
        "id": "Bl6AM8JBpzq8",
        "outputId": "bb41ae9d-6f67-4167-b766-0559c22b15c4"
      },
      "execution_count": null,
      "outputs": [
        {
          "output_type": "execute_result",
          "data": {
            "text/html": [
              "\n",
              "  <div id=\"df-3cb142e6-d1a8-4e9c-b647-3f31fce81888\">\n",
              "    <div class=\"colab-df-container\">\n",
              "      <div>\n",
              "<style scoped>\n",
              "    .dataframe tbody tr th:only-of-type {\n",
              "        vertical-align: middle;\n",
              "    }\n",
              "\n",
              "    .dataframe tbody tr th {\n",
              "        vertical-align: top;\n",
              "    }\n",
              "\n",
              "    .dataframe thead th {\n",
              "        text-align: right;\n",
              "    }\n",
              "</style>\n",
              "<table border=\"1\" class=\"dataframe\">\n",
              "  <thead>\n",
              "    <tr style=\"text-align: right;\">\n",
              "      <th></th>\n",
              "      <th>Restaurant ID</th>\n",
              "      <th>Country Code</th>\n",
              "      <th>Longitude</th>\n",
              "      <th>Latitude</th>\n",
              "      <th>Average Cost for two</th>\n",
              "      <th>Price range</th>\n",
              "      <th>Aggregate rating</th>\n",
              "      <th>Votes</th>\n",
              "    </tr>\n",
              "  </thead>\n",
              "  <tbody>\n",
              "    <tr>\n",
              "      <th>count</th>\n",
              "      <td>9.551000e+03</td>\n",
              "      <td>9551.000000</td>\n",
              "      <td>9551.000000</td>\n",
              "      <td>9551.000000</td>\n",
              "      <td>9551.000000</td>\n",
              "      <td>9551.000000</td>\n",
              "      <td>9551.000000</td>\n",
              "      <td>9551.000000</td>\n",
              "    </tr>\n",
              "    <tr>\n",
              "      <th>mean</th>\n",
              "      <td>9.051128e+06</td>\n",
              "      <td>18.365616</td>\n",
              "      <td>73.262397</td>\n",
              "      <td>26.990459</td>\n",
              "      <td>1199.210763</td>\n",
              "      <td>1.804837</td>\n",
              "      <td>2.666370</td>\n",
              "      <td>156.909748</td>\n",
              "    </tr>\n",
              "    <tr>\n",
              "      <th>std</th>\n",
              "      <td>8.791521e+06</td>\n",
              "      <td>56.750546</td>\n",
              "      <td>21.545863</td>\n",
              "      <td>7.818726</td>\n",
              "      <td>16121.183073</td>\n",
              "      <td>0.905609</td>\n",
              "      <td>1.516378</td>\n",
              "      <td>430.169145</td>\n",
              "    </tr>\n",
              "    <tr>\n",
              "      <th>min</th>\n",
              "      <td>5.300000e+01</td>\n",
              "      <td>1.000000</td>\n",
              "      <td>0.000000</td>\n",
              "      <td>0.000000</td>\n",
              "      <td>0.000000</td>\n",
              "      <td>1.000000</td>\n",
              "      <td>0.000000</td>\n",
              "      <td>0.000000</td>\n",
              "    </tr>\n",
              "    <tr>\n",
              "      <th>25%</th>\n",
              "      <td>3.019625e+05</td>\n",
              "      <td>1.000000</td>\n",
              "      <td>77.095697</td>\n",
              "      <td>28.481188</td>\n",
              "      <td>250.000000</td>\n",
              "      <td>1.000000</td>\n",
              "      <td>2.500000</td>\n",
              "      <td>5.000000</td>\n",
              "    </tr>\n",
              "    <tr>\n",
              "      <th>50%</th>\n",
              "      <td>6.004089e+06</td>\n",
              "      <td>1.000000</td>\n",
              "      <td>77.205421</td>\n",
              "      <td>28.572300</td>\n",
              "      <td>400.000000</td>\n",
              "      <td>2.000000</td>\n",
              "      <td>3.200000</td>\n",
              "      <td>31.000000</td>\n",
              "    </tr>\n",
              "    <tr>\n",
              "      <th>75%</th>\n",
              "      <td>1.835229e+07</td>\n",
              "      <td>1.000000</td>\n",
              "      <td>77.300825</td>\n",
              "      <td>28.644668</td>\n",
              "      <td>700.000000</td>\n",
              "      <td>2.000000</td>\n",
              "      <td>3.700000</td>\n",
              "      <td>131.000000</td>\n",
              "    </tr>\n",
              "    <tr>\n",
              "      <th>max</th>\n",
              "      <td>1.850065e+07</td>\n",
              "      <td>216.000000</td>\n",
              "      <td>174.832089</td>\n",
              "      <td>55.976980</td>\n",
              "      <td>800000.000000</td>\n",
              "      <td>4.000000</td>\n",
              "      <td>4.900000</td>\n",
              "      <td>10934.000000</td>\n",
              "    </tr>\n",
              "  </tbody>\n",
              "</table>\n",
              "</div>\n",
              "      <button class=\"colab-df-convert\" onclick=\"convertToInteractive('df-3cb142e6-d1a8-4e9c-b647-3f31fce81888')\"\n",
              "              title=\"Convert this dataframe to an interactive table.\"\n",
              "              style=\"display:none;\">\n",
              "        \n",
              "  <svg xmlns=\"http://www.w3.org/2000/svg\" height=\"24px\"viewBox=\"0 0 24 24\"\n",
              "       width=\"24px\">\n",
              "    <path d=\"M0 0h24v24H0V0z\" fill=\"none\"/>\n",
              "    <path d=\"M18.56 5.44l.94 2.06.94-2.06 2.06-.94-2.06-.94-.94-2.06-.94 2.06-2.06.94zm-11 1L8.5 8.5l.94-2.06 2.06-.94-2.06-.94L8.5 2.5l-.94 2.06-2.06.94zm10 10l.94 2.06.94-2.06 2.06-.94-2.06-.94-.94-2.06-.94 2.06-2.06.94z\"/><path d=\"M17.41 7.96l-1.37-1.37c-.4-.4-.92-.59-1.43-.59-.52 0-1.04.2-1.43.59L10.3 9.45l-7.72 7.72c-.78.78-.78 2.05 0 2.83L4 21.41c.39.39.9.59 1.41.59.51 0 1.02-.2 1.41-.59l7.78-7.78 2.81-2.81c.8-.78.8-2.07 0-2.86zM5.41 20L4 18.59l7.72-7.72 1.47 1.35L5.41 20z\"/>\n",
              "  </svg>\n",
              "      </button>\n",
              "      \n",
              "  <style>\n",
              "    .colab-df-container {\n",
              "      display:flex;\n",
              "      flex-wrap:wrap;\n",
              "      gap: 12px;\n",
              "    }\n",
              "\n",
              "    .colab-df-convert {\n",
              "      background-color: #E8F0FE;\n",
              "      border: none;\n",
              "      border-radius: 50%;\n",
              "      cursor: pointer;\n",
              "      display: none;\n",
              "      fill: #1967D2;\n",
              "      height: 32px;\n",
              "      padding: 0 0 0 0;\n",
              "      width: 32px;\n",
              "    }\n",
              "\n",
              "    .colab-df-convert:hover {\n",
              "      background-color: #E2EBFA;\n",
              "      box-shadow: 0px 1px 2px rgba(60, 64, 67, 0.3), 0px 1px 3px 1px rgba(60, 64, 67, 0.15);\n",
              "      fill: #174EA6;\n",
              "    }\n",
              "\n",
              "    [theme=dark] .colab-df-convert {\n",
              "      background-color: #3B4455;\n",
              "      fill: #D2E3FC;\n",
              "    }\n",
              "\n",
              "    [theme=dark] .colab-df-convert:hover {\n",
              "      background-color: #434B5C;\n",
              "      box-shadow: 0px 1px 3px 1px rgba(0, 0, 0, 0.15);\n",
              "      filter: drop-shadow(0px 1px 2px rgba(0, 0, 0, 0.3));\n",
              "      fill: #FFFFFF;\n",
              "    }\n",
              "  </style>\n",
              "\n",
              "      <script>\n",
              "        const buttonEl =\n",
              "          document.querySelector('#df-3cb142e6-d1a8-4e9c-b647-3f31fce81888 button.colab-df-convert');\n",
              "        buttonEl.style.display =\n",
              "          google.colab.kernel.accessAllowed ? 'block' : 'none';\n",
              "\n",
              "        async function convertToInteractive(key) {\n",
              "          const element = document.querySelector('#df-3cb142e6-d1a8-4e9c-b647-3f31fce81888');\n",
              "          const dataTable =\n",
              "            await google.colab.kernel.invokeFunction('convertToInteractive',\n",
              "                                                     [key], {});\n",
              "          if (!dataTable) return;\n",
              "\n",
              "          const docLinkHtml = 'Like what you see? Visit the ' +\n",
              "            '<a target=\"_blank\" href=https://colab.research.google.com/notebooks/data_table.ipynb>data table notebook</a>'\n",
              "            + ' to learn more about interactive tables.';\n",
              "          element.innerHTML = '';\n",
              "          dataTable['output_type'] = 'display_data';\n",
              "          await google.colab.output.renderOutput(dataTable, element);\n",
              "          const docLink = document.createElement('div');\n",
              "          docLink.innerHTML = docLinkHtml;\n",
              "          element.appendChild(docLink);\n",
              "        }\n",
              "      </script>\n",
              "    </div>\n",
              "  </div>\n",
              "  "
            ],
            "text/plain": [
              "       Restaurant ID  Country Code  ...  Aggregate rating         Votes\n",
              "count   9.551000e+03   9551.000000  ...       9551.000000   9551.000000\n",
              "mean    9.051128e+06     18.365616  ...          2.666370    156.909748\n",
              "std     8.791521e+06     56.750546  ...          1.516378    430.169145\n",
              "min     5.300000e+01      1.000000  ...          0.000000      0.000000\n",
              "25%     3.019625e+05      1.000000  ...          2.500000      5.000000\n",
              "50%     6.004089e+06      1.000000  ...          3.200000     31.000000\n",
              "75%     1.835229e+07      1.000000  ...          3.700000    131.000000\n",
              "max     1.850065e+07    216.000000  ...          4.900000  10934.000000\n",
              "\n",
              "[8 rows x 8 columns]"
            ]
          },
          "metadata": {},
          "execution_count": 14
        }
      ]
    },
    {
      "cell_type": "markdown",
      "source": [
        "###Check for missing values and visualize and replace those."
      ],
      "metadata": {
        "id": "vfA2HVu7gK0m"
      }
    },
    {
      "cell_type": "code",
      "source": [
        "df.isnull().sum()"
      ],
      "metadata": {
        "colab": {
          "base_uri": "https://localhost:8080/"
        },
        "id": "3jtgFa8YpnLl",
        "outputId": "82d911ee-2c23-45bb-cec8-bef6656fec55"
      },
      "execution_count": null,
      "outputs": [
        {
          "output_type": "execute_result",
          "data": {
            "text/plain": [
              "Restaurant ID           0\n",
              "Restaurant Name         0\n",
              "Country Code            0\n",
              "City                    0\n",
              "Address                 0\n",
              "Locality                0\n",
              "Locality Verbose        0\n",
              "Longitude               0\n",
              "Latitude                0\n",
              "Cuisines                9\n",
              "Average Cost for two    0\n",
              "Currency                0\n",
              "Has Table booking       0\n",
              "Has Online delivery     0\n",
              "Is delivering now       0\n",
              "Switch to order menu    0\n",
              "Price range             0\n",
              "Aggregate rating        0\n",
              "Rating color            0\n",
              "Rating text             0\n",
              "Votes                   0\n",
              "dtype: int64"
            ]
          },
          "metadata": {},
          "execution_count": 15
        }
      ]
    },
    {
      "cell_type": "code",
      "source": [
        "#column which have null values\n",
        "[i for i in df.columns if df[i].isnull().sum()>0]"
      ],
      "metadata": {
        "colab": {
          "base_uri": "https://localhost:8080/"
        },
        "id": "nxcjGgQmp16P",
        "outputId": "a5d5e3c2-b402-4388-ae4a-22596f57da4e"
      },
      "execution_count": null,
      "outputs": [
        {
          "output_type": "execute_result",
          "data": {
            "text/plain": [
              "['Cuisines']"
            ]
          },
          "metadata": {},
          "execution_count": 16
        }
      ]
    },
    {
      "cell_type": "code",
      "source": [
        "#we can also use heatmap to see null values\n",
        "sns.heatmap(df.isnull(),yticklabels=False,cbar=False,cmap='viridis')"
      ],
      "metadata": {
        "colab": {
          "base_uri": "https://localhost:8080/",
          "height": 488
        },
        "id": "23XTGMcuqJ90",
        "outputId": "335b6808-8c21-4b1c-acf4-ae3297f197f6"
      },
      "execution_count": null,
      "outputs": [
        {
          "output_type": "execute_result",
          "data": {
            "text/plain": [
              "<matplotlib.axes._subplots.AxesSubplot at 0x7f44cf1dc810>"
            ]
          },
          "metadata": {},
          "execution_count": 17
        },
        {
          "output_type": "display_data",
          "data": {
            "image/png": "[encoded data removed]",
            "text/plain": [
              "<Figure size 864x432 with 1 Axes>"
            ]
          },
          "metadata": {
            "needs_background": "light"
          }
        }
      ]
    },
    {
      "cell_type": "markdown",
      "source": [
        "i can't able to see those 9 null records becoze they are too less values but they are probabily somewhere "
      ],
      "metadata": {
        "id": "IIDtIw7iqwZT"
      }
    },
    {
      "cell_type": "code",
      "source": [
        "#import second dataframe\n",
        "df2=pd.read_excel('/content/gdrive/MyDrive/projects and csv/Copy of Country-Code.xlsx')\n",
        "df2.head()\n"
      ],
      "metadata": {
        "colab": {
          "base_uri": "https://localhost:8080/",
          "height": 206
        },
        "id": "cUs7brNtrNco",
        "outputId": "80190b8d-95ff-4f8f-ede6-a03c7206d957"
      },
      "execution_count": null,
      "outputs": [
        {
          "output_type": "execute_result",
          "data": {
            "text/html": [
              "\n",
              "  <div id=\"df-85a04a31-f12d-4ef9-8720-324a05633f14\">\n",
              "    <div class=\"colab-df-container\">\n",
              "      <div>\n",
              "<style scoped>\n",
              "    .dataframe tbody tr th:only-of-type {\n",
              "        vertical-align: middle;\n",
              "    }\n",
              "\n",
              "    .dataframe tbody tr th {\n",
              "        vertical-align: top;\n",
              "    }\n",
              "\n",
              "    .dataframe thead th {\n",
              "        text-align: right;\n",
              "    }\n",
              "</style>\n",
              "<table border=\"1\" class=\"dataframe\">\n",
              "  <thead>\n",
              "    <tr style=\"text-align: right;\">\n",
              "      <th></th>\n",
              "      <th>Country Code</th>\n",
              "      <th>Country</th>\n",
              "    </tr>\n",
              "  </thead>\n",
              "  <tbody>\n",
              "    <tr>\n",
              "      <th>0</th>\n",
              "      <td>1</td>\n",
              "      <td>India</td>\n",
              "    </tr>\n",
              "    <tr>\n",
              "      <th>1</th>\n",
              "      <td>14</td>\n",
              "      <td>Australia</td>\n",
              "    </tr>\n",
              "    <tr>\n",
              "      <th>2</th>\n",
              "      <td>30</td>\n",
              "      <td>Brazil</td>\n",
              "    </tr>\n",
              "    <tr>\n",
              "      <th>3</th>\n",
              "      <td>37</td>\n",
              "      <td>Canada</td>\n",
              "    </tr>\n",
              "    <tr>\n",
              "      <th>4</th>\n",
              "      <td>94</td>\n",
              "      <td>Indonesia</td>\n",
              "    </tr>\n",
              "  </tbody>\n",
              "</table>\n",
              "</div>\n",
              "      <button class=\"colab-df-convert\" onclick=\"convertToInteractive('df-85a04a31-f12d-4ef9-8720-324a05633f14')\"\n",
              "              title=\"Convert this dataframe to an interactive table.\"\n",
              "              style=\"display:none;\">\n",
              "        \n",
              "  <svg xmlns=\"http://www.w3.org/2000/svg\" height=\"24px\"viewBox=\"0 0 24 24\"\n",
              "       width=\"24px\">\n",
              "    <path d=\"M0 0h24v24H0V0z\" fill=\"none\"/>\n",
              "    <path d=\"M18.56 5.44l.94 2.06.94-2.06 2.06-.94-2.06-.94-.94-2.06-.94 2.06-2.06.94zm-11 1L8.5 8.5l.94-2.06 2.06-.94-2.06-.94L8.5 2.5l-.94 2.06-2.06.94zm10 10l.94 2.06.94-2.06 2.06-.94-2.06-.94-.94-2.06-.94 2.06-2.06.94z\"/><path d=\"M17.41 7.96l-1.37-1.37c-.4-.4-.92-.59-1.43-.59-.52 0-1.04.2-1.43.59L10.3 9.45l-7.72 7.72c-.78.78-.78 2.05 0 2.83L4 21.41c.39.39.9.59 1.41.59.51 0 1.02-.2 1.41-.59l7.78-7.78 2.81-2.81c.8-.78.8-2.07 0-2.86zM5.41 20L4 18.59l7.72-7.72 1.47 1.35L5.41 20z\"/>\n",
              "  </svg>\n",
              "      </button>\n",
              "      \n",
              "  <style>\n",
              "    .colab-df-container {\n",
              "      display:flex;\n",
              "      flex-wrap:wrap;\n",
              "      gap: 12px;\n",
              "    }\n",
              "\n",
              "    .colab-df-convert {\n",
              "      background-color: #E8F0FE;\n",
              "      border: none;\n",
              "      border-radius: 50%;\n",
              "      cursor: pointer;\n",
              "      display: none;\n",
              "      fill: #1967D2;\n",
              "      height: 32px;\n",
              "      padding: 0 0 0 0;\n",
              "      width: 32px;\n",
              "    }\n",
              "\n",
              "    .colab-df-convert:hover {\n",
              "      background-color: #E2EBFA;\n",
              "      box-shadow: 0px 1px 2px rgba(60, 64, 67, 0.3), 0px 1px 3px 1px rgba(60, 64, 67, 0.15);\n",
              "      fill: #174EA6;\n",
              "    }\n",
              "\n",
              "    [theme=dark] .colab-df-convert {\n",
              "      background-color: #3B4455;\n",
              "      fill: #D2E3FC;\n",
              "    }\n",
              "\n",
              "    [theme=dark] .colab-df-convert:hover {\n",
              "      background-color: #434B5C;\n",
              "      box-shadow: 0px 1px 3px 1px rgba(0, 0, 0, 0.15);\n",
              "      filter: drop-shadow(0px 1px 2px rgba(0, 0, 0, 0.3));\n",
              "      fill: #FFFFFF;\n",
              "    }\n",
              "  </style>\n",
              "\n",
              "      <script>\n",
              "        const buttonEl =\n",
              "          document.querySelector('#df-85a04a31-f12d-4ef9-8720-324a05633f14 button.colab-df-convert');\n",
              "        buttonEl.style.display =\n",
              "          google.colab.kernel.accessAllowed ? 'block' : 'none';\n",
              "\n",
              "        async function convertToInteractive(key) {\n",
              "          const element = document.querySelector('#df-85a04a31-f12d-4ef9-8720-324a05633f14');\n",
              "          const dataTable =\n",
              "            await google.colab.kernel.invokeFunction('convertToInteractive',\n",
              "                                                     [key], {});\n",
              "          if (!dataTable) return;\n",
              "\n",
              "          const docLinkHtml = 'Like what you see? Visit the ' +\n",
              "            '<a target=\"_blank\" href=https://colab.research.google.com/notebooks/data_table.ipynb>data table notebook</a>'\n",
              "            + ' to learn more about interactive tables.';\n",
              "          element.innerHTML = '';\n",
              "          dataTable['output_type'] = 'display_data';\n",
              "          await google.colab.output.renderOutput(dataTable, element);\n",
              "          const docLink = document.createElement('div');\n",
              "          docLink.innerHTML = docLinkHtml;\n",
              "          element.appendChild(docLink);\n",
              "        }\n",
              "      </script>\n",
              "    </div>\n",
              "  </div>\n",
              "  "
            ],
            "text/plain": [
              "   Country Code    Country\n",
              "0             1      India\n",
              "1            14  Australia\n",
              "2            30     Brazil\n",
              "3            37     Canada\n",
              "4            94  Indonesia"
            ]
          },
          "metadata": {},
          "execution_count": 18
        }
      ]
    },
    {
      "cell_type": "code",
      "source": [
        "#merge both dataframes and final dataframe\n",
        "final_df=pd.merge(df,df2,on='Country Code',how='left')\n",
        "final_df.head()"
      ],
      "metadata": {
        "colab": {
          "base_uri": "https://localhost:8080/",
          "height": 721
        },
        "id": "zyZwz12ctnr6",
        "outputId": "c256a0db-42ed-43c5-d9bd-295a2c9cb529"
      },
      "execution_count": null,
      "outputs": [
        {
          "output_type": "execute_result",
          "data": {
            "text/html": [
              "\n",
              "  <div id=\"df-31bf6b49-57f7-45b6-b804-cb6fe321ee0e\">\n",
              "    <div class=\"colab-df-container\">\n",
              "      <div>\n",
              "<style scoped>\n",
              "    .dataframe tbody tr th:only-of-type {\n",
              "        vertical-align: middle;\n",
              "    }\n",
              "\n",
              "    .dataframe tbody tr th {\n",
              "        vertical-align: top;\n",
              "    }\n",
              "\n",
              "    .dataframe thead th {\n",
              "        text-align: right;\n",
              "    }\n",
              "</style>\n",
              "<table border=\"1\" class=\"dataframe\">\n",
              "  <thead>\n",
              "    <tr style=\"text-align: right;\">\n",
              "      <th></th>\n",
              "      <th>Restaurant ID</th>\n",
              "      <th>Restaurant Name</th>\n",
              "      <th>Country Code</th>\n",
              "      <th>City</th>\n",
              "      <th>Address</th>\n",
              "      <th>Locality</th>\n",
              "      <th>Locality Verbose</th>\n",
              "      <th>Longitude</th>\n",
              "      <th>Latitude</th>\n",
              "      <th>Cuisines</th>\n",
              "      <th>Average Cost for two</th>\n",
              "      <th>Currency</th>\n",
              "      <th>Has Table booking</th>\n",
              "      <th>Has Online delivery</th>\n",
              "      <th>Is delivering now</th>\n",
              "      <th>Switch to order menu</th>\n",
              "      <th>Price range</th>\n",
              "      <th>Aggregate rating</th>\n",
              "      <th>Rating color</th>\n",
              "      <th>Rating text</th>\n",
              "      <th>Votes</th>\n",
              "      <th>Country</th>\n",
              "    </tr>\n",
              "  </thead>\n",
              "  <tbody>\n",
              "    <tr>\n",
              "      <th>0</th>\n",
              "      <td>6317637</td>\n",
              "      <td>Le Petit Souffle</td>\n",
              "      <td>162</td>\n",
              "      <td>Makati City</td>\n",
              "      <td>Third Floor Century City Mall Kalayaan Avenue ...</td>\n",
              "      <td>Century City Mall Poblacion Makati City</td>\n",
              "      <td>Century City Mall Poblacion Makati City Makati...</td>\n",
              "      <td>121.027535</td>\n",
              "      <td>14.565443</td>\n",
              "      <td>French Japanese Desserts</td>\n",
              "      <td>1100</td>\n",
              "      <td>Botswana Pula(P)</td>\n",
              "      <td>Yes</td>\n",
              "      <td>No</td>\n",
              "      <td>No</td>\n",
              "      <td>No</td>\n",
              "      <td>3</td>\n",
              "      <td>4.8</td>\n",
              "      <td>Dark Green</td>\n",
              "      <td>Excellent</td>\n",
              "      <td>314</td>\n",
              "      <td>Phillipines</td>\n",
              "    </tr>\n",
              "    <tr>\n",
              "      <th>1</th>\n",
              "      <td>6304287</td>\n",
              "      <td>Izakaya Kikufuji</td>\n",
              "      <td>162</td>\n",
              "      <td>Makati City</td>\n",
              "      <td>Little Tokyo 2277 Chino Roces Avenue Legaspi V...</td>\n",
              "      <td>Little Tokyo Legaspi Village Makati City</td>\n",
              "      <td>Little Tokyo Legaspi Village Makati City Makat...</td>\n",
              "      <td>121.014101</td>\n",
              "      <td>14.553708</td>\n",
              "      <td>Japanese</td>\n",
              "      <td>1200</td>\n",
              "      <td>Botswana Pula(P)</td>\n",
              "      <td>Yes</td>\n",
              "      <td>No</td>\n",
              "      <td>No</td>\n",
              "      <td>No</td>\n",
              "      <td>3</td>\n",
              "      <td>4.5</td>\n",
              "      <td>Dark Green</td>\n",
              "      <td>Excellent</td>\n",
              "      <td>591</td>\n",
              "      <td>Phillipines</td>\n",
              "    </tr>\n",
              "    <tr>\n",
              "      <th>2</th>\n",
              "      <td>6300002</td>\n",
              "      <td>Heat  Edsa ShangriLa</td>\n",
              "      <td>162</td>\n",
              "      <td>Mandaluyong City</td>\n",
              "      <td>Edsa ShangriLa 1 Garden Way Ortigas Mandaluyon...</td>\n",
              "      <td>Edsa ShangriLa Ortigas Mandaluyong City</td>\n",
              "      <td>Edsa ShangriLa Ortigas Mandaluyong City Mandal...</td>\n",
              "      <td>121.056831</td>\n",
              "      <td>14.581404</td>\n",
              "      <td>Seafood Asian Filipino Indian</td>\n",
              "      <td>4000</td>\n",
              "      <td>Botswana Pula(P)</td>\n",
              "      <td>Yes</td>\n",
              "      <td>No</td>\n",
              "      <td>No</td>\n",
              "      <td>No</td>\n",
              "      <td>4</td>\n",
              "      <td>4.4</td>\n",
              "      <td>Green</td>\n",
              "      <td>Very Good</td>\n",
              "      <td>270</td>\n",
              "      <td>Phillipines</td>\n",
              "    </tr>\n",
              "    <tr>\n",
              "      <th>3</th>\n",
              "      <td>6318506</td>\n",
              "      <td>Ooma</td>\n",
              "      <td>162</td>\n",
              "      <td>Mandaluyong City</td>\n",
              "      <td>Third Floor Mega Fashion Hall SM Megamall Orti...</td>\n",
              "      <td>SM Megamall Ortigas Mandaluyong City</td>\n",
              "      <td>SM Megamall Ortigas Mandaluyong City Mandaluyo...</td>\n",
              "      <td>121.056475</td>\n",
              "      <td>14.585318</td>\n",
              "      <td>Japanese Sushi</td>\n",
              "      <td>1500</td>\n",
              "      <td>Botswana Pula(P)</td>\n",
              "      <td>No</td>\n",
              "      <td>No</td>\n",
              "      <td>No</td>\n",
              "      <td>No</td>\n",
              "      <td>4</td>\n",
              "      <td>4.9</td>\n",
              "      <td>Dark Green</td>\n",
              "      <td>Excellent</td>\n",
              "      <td>365</td>\n",
              "      <td>Phillipines</td>\n",
              "    </tr>\n",
              "    <tr>\n",
              "      <th>4</th>\n",
              "      <td>6314302</td>\n",
              "      <td>Sambo Kojin</td>\n",
              "      <td>162</td>\n",
              "      <td>Mandaluyong City</td>\n",
              "      <td>Third Floor Mega Atrium SM Megamall Ortigas Ma...</td>\n",
              "      <td>SM Megamall Ortigas Mandaluyong City</td>\n",
              "      <td>SM Megamall Ortigas Mandaluyong City Mandaluyo...</td>\n",
              "      <td>121.057508</td>\n",
              "      <td>14.584450</td>\n",
              "      <td>Japanese Korean</td>\n",
              "      <td>1500</td>\n",
              "      <td>Botswana Pula(P)</td>\n",
              "      <td>Yes</td>\n",
              "      <td>No</td>\n",
              "      <td>No</td>\n",
              "      <td>No</td>\n",
              "      <td>4</td>\n",
              "      <td>4.8</td>\n",
              "      <td>Dark Green</td>\n",
              "      <td>Excellent</td>\n",
              "      <td>229</td>\n",
              "      <td>Phillipines</td>\n",
              "    </tr>\n",
              "  </tbody>\n",
              "</table>\n",
              "</div>\n",
              "      <button class=\"colab-df-convert\" onclick=\"convertToInteractive('df-31bf6b49-57f7-45b6-b804-cb6fe321ee0e')\"\n",
              "              title=\"Convert this dataframe to an interactive table.\"\n",
              "              style=\"display:none;\">\n",
              "        \n",
              "  <svg xmlns=\"http://www.w3.org/2000/svg\" height=\"24px\"viewBox=\"0 0 24 24\"\n",
              "       width=\"24px\">\n",
              "    <path d=\"M0 0h24v24H0V0z\" fill=\"none\"/>\n",
              "    <path d=\"M18.56 5.44l.94 2.06.94-2.06 2.06-.94-2.06-.94-.94-2.06-.94 2.06-2.06.94zm-11 1L8.5 8.5l.94-2.06 2.06-.94-2.06-.94L8.5 2.5l-.94 2.06-2.06.94zm10 10l.94 2.06.94-2.06 2.06-.94-2.06-.94-.94-2.06-.94 2.06-2.06.94z\"/><path d=\"M17.41 7.96l-1.37-1.37c-.4-.4-.92-.59-1.43-.59-.52 0-1.04.2-1.43.59L10.3 9.45l-7.72 7.72c-.78.78-.78 2.05 0 2.83L4 21.41c.39.39.9.59 1.41.59.51 0 1.02-.2 1.41-.59l7.78-7.78 2.81-2.81c.8-.78.8-2.07 0-2.86zM5.41 20L4 18.59l7.72-7.72 1.47 1.35L5.41 20z\"/>\n",
              "  </svg>\n",
              "      </button>\n",
              "      \n",
              "  <style>\n",
              "    .colab-df-container {\n",
              "      display:flex;\n",
              "      flex-wrap:wrap;\n",
              "      gap: 12px;\n",
              "    }\n",
              "\n",
              "    .colab-df-convert {\n",
              "      background-color: #E8F0FE;\n",
              "      border: none;\n",
              "      border-radius: 50%;\n",
              "      cursor: pointer;\n",
              "      display: none;\n",
              "      fill: #1967D2;\n",
              "      height: 32px;\n",
              "      padding: 0 0 0 0;\n",
              "      width: 32px;\n",
              "    }\n",
              "\n",
              "    .colab-df-convert:hover {\n",
              "      background-color: #E2EBFA;\n",
              "      box-shadow: 0px 1px 2px rgba(60, 64, 67, 0.3), 0px 1px 3px 1px rgba(60, 64, 67, 0.15);\n",
              "      fill: #174EA6;\n",
              "    }\n",
              "\n",
              "    [theme=dark] .colab-df-convert {\n",
              "      background-color: #3B4455;\n",
              "      fill: #D2E3FC;\n",
              "    }\n",
              "\n",
              "    [theme=dark] .colab-df-convert:hover {\n",
              "      background-color: #434B5C;\n",
              "      box-shadow: 0px 1px 3px 1px rgba(0, 0, 0, 0.15);\n",
              "      filter: drop-shadow(0px 1px 2px rgba(0, 0, 0, 0.3));\n",
              "      fill: #FFFFFF;\n",
              "    }\n",
              "  </style>\n",
              "\n",
              "      <script>\n",
              "        const buttonEl =\n",
              "          document.querySelector('#df-31bf6b49-57f7-45b6-b804-cb6fe321ee0e button.colab-df-convert');\n",
              "        buttonEl.style.display =\n",
              "          google.colab.kernel.accessAllowed ? 'block' : 'none';\n",
              "\n",
              "        async function convertToInteractive(key) {\n",
              "          const element = document.querySelector('#df-31bf6b49-57f7-45b6-b804-cb6fe321ee0e');\n",
              "          const dataTable =\n",
              "            await google.colab.kernel.invokeFunction('convertToInteractive',\n",
              "                                                     [key], {});\n",
              "          if (!dataTable) return;\n",
              "\n",
              "          const docLinkHtml = 'Like what you see? Visit the ' +\n",
              "            '<a target=\"_blank\" href=https://colab.research.google.com/notebooks/data_table.ipynb>data table notebook</a>'\n",
              "            + ' to learn more about interactive tables.';\n",
              "          element.innerHTML = '';\n",
              "          dataTable['output_type'] = 'display_data';\n",
              "          await google.colab.output.renderOutput(dataTable, element);\n",
              "          const docLink = document.createElement('div');\n",
              "          docLink.innerHTML = docLinkHtml;\n",
              "          element.appendChild(docLink);\n",
              "        }\n",
              "      </script>\n",
              "    </div>\n",
              "  </div>\n",
              "  "
            ],
            "text/plain": [
              "   Restaurant ID       Restaurant Name  ...  Votes      Country\n",
              "0        6317637      Le Petit Souffle  ...    314  Phillipines\n",
              "1        6304287      Izakaya Kikufuji  ...    591  Phillipines\n",
              "2        6300002  Heat  Edsa ShangriLa  ...    270  Phillipines\n",
              "3        6318506                  Ooma  ...    365  Phillipines\n",
              "4        6314302           Sambo Kojin  ...    229  Phillipines\n",
              "\n",
              "[5 rows x 22 columns]"
            ]
          },
          "metadata": {},
          "execution_count": 19
        }
      ]
    },
    {
      "cell_type": "markdown",
      "source": [
        "###Loading final dataframe after merge"
      ],
      "metadata": {
        "id": "4ab_Uu0vjHE-"
      }
    },
    {
      "cell_type": "code",
      "source": [
        "#another way to check datatype\n",
        "final_df.dtypes"
      ],
      "metadata": {
        "colab": {
          "base_uri": "https://localhost:8080/"
        },
        "id": "JwAsmNzQfNG_",
        "outputId": "ebca8ec1-8040-4e27-e115-f1da0bedcb46"
      },
      "execution_count": null,
      "outputs": [
        {
          "output_type": "execute_result",
          "data": {
            "text/plain": [
              "Restaurant ID             int64\n",
              "Restaurant Name          object\n",
              "Country Code              int64\n",
              "City                     object\n",
              "Address                  object\n",
              "Locality                 object\n",
              "Locality Verbose         object\n",
              "Longitude               float64\n",
              "Latitude                float64\n",
              "Cuisines                 object\n",
              "Average Cost for two      int64\n",
              "Currency                 object\n",
              "Has Table booking        object\n",
              "Has Online delivery      object\n",
              "Is delivering now        object\n",
              "Switch to order menu     object\n",
              "Price range               int64\n",
              "Aggregate rating        float64\n",
              "Rating color             object\n",
              "Rating text              object\n",
              "Votes                     int64\n",
              "Country                  object\n",
              "dtype: object"
            ]
          },
          "metadata": {},
          "execution_count": 20
        }
      ]
    },
    {
      "cell_type": "code",
      "source": [
        "#columns name after merging dataframes\n",
        "final_df.columns"
      ],
      "metadata": {
        "colab": {
          "base_uri": "https://localhost:8080/"
        },
        "id": "RRSLNMx4e7jo",
        "outputId": "48851582-5fb6-4c57-8c3b-0c5f8bc0d56c"
      },
      "execution_count": null,
      "outputs": [
        {
          "output_type": "execute_result",
          "data": {
            "text/plain": [
              "Index(['Restaurant ID', 'Restaurant Name', 'Country Code', 'City', 'Address',\n",
              "       'Locality', 'Locality Verbose', 'Longitude', 'Latitude', 'Cuisines',\n",
              "       'Average Cost for two', 'Currency', 'Has Table booking',\n",
              "       'Has Online delivery', 'Is delivering now', 'Switch to order menu',\n",
              "       'Price range', 'Aggregate rating', 'Rating color', 'Rating text',\n",
              "       'Votes', 'Country'],\n",
              "      dtype='object')"
            ]
          },
          "metadata": {},
          "execution_count": 21
        }
      ]
    },
    {
      "cell_type": "code",
      "source": [
        "#Zomato counts in each country\n",
        "final_df.Country.value_counts()"
      ],
      "metadata": {
        "colab": {
          "base_uri": "https://localhost:8080/"
        },
        "id": "oMckSQZ8jZt2",
        "outputId": "8dc985a8-1b90-4fcc-c2bd-cfed15ea1b99"
      },
      "execution_count": null,
      "outputs": [
        {
          "output_type": "execute_result",
          "data": {
            "text/plain": [
              "India             8652\n",
              "United States      434\n",
              "United Kingdom      80\n",
              "Brazil              60\n",
              "UAE                 60\n",
              "South Africa        60\n",
              "New Zealand         40\n",
              "Turkey              34\n",
              "Australia           24\n",
              "Phillipines         22\n",
              "Indonesia           21\n",
              "Singapore           20\n",
              "Qatar               20\n",
              "Sri Lanka           20\n",
              "Canada               4\n",
              "Name: Country, dtype: int64"
            ]
          },
          "metadata": {},
          "execution_count": 22
        }
      ]
    },
    {
      "cell_type": "markdown",
      "source": [
        "###CHECKING OUTLIERS"
      ],
      "metadata": {
        "id": "Tt-yqJ4ZRV_T"
      }
    },
    {
      "cell_type": "code",
      "source": [
        "#making boxplot of all numerical columns\n",
        "columns=['Average Cost for two',  'Price range', 'Aggregate rating']\n",
        "n = 1\n",
        "plt.figure(figsize=(20,15))\n",
        "for i in columns:\n",
        "  plt.subplot(4,4,n)\n",
        "  n = n+1\n",
        "  sns.boxplot(df[i])\n",
        "  plt.tight_layout()"
      ],
      "metadata": {
        "colab": {
          "base_uri": "https://localhost:8080/",
          "height": 418
        },
        "id": "A66M7QvwRYgH",
        "outputId": "a7ae2854-5cbb-4d7a-dcef-cf0063152189"
      },
      "execution_count": null,
      "outputs": [
        {
          "output_type": "stream",
          "name": "stderr",
          "text": [
            "/usr/local/lib/python3.7/dist-packages/seaborn/_decorators.py:43: FutureWarning: Pass the following variable as a keyword arg: x. From version 0.12, the only valid positional argument will be `data`, and passing other arguments without an explicit keyword will result in an error or misinterpretation.\n",
            "  FutureWarning\n",
            "/usr/local/lib/python3.7/dist-packages/seaborn/_decorators.py:43: FutureWarning: Pass the following variable as a keyword arg: x. From version 0.12, the only valid positional argument will be `data`, and passing other arguments without an explicit keyword will result in an error or misinterpretation.\n",
            "  FutureWarning\n",
            "/usr/local/lib/python3.7/dist-packages/seaborn/_decorators.py:43: FutureWarning: Pass the following variable as a keyword arg: x. From version 0.12, the only valid positional argument will be `data`, and passing other arguments without an explicit keyword will result in an error or misinterpretation.\n",
            "  FutureWarning\n"
          ]
        },
        {
          "output_type": "display_data",
          "data": {
            "image/png": "[encoded data removed]",
            "text/plain": [
              "<Figure size 1440x1080 with 3 Axes>"
            ]
          },
          "metadata": {
            "needs_background": "light"
          }
        }
      ]
    },
    {
      "cell_type": "markdown",
      "source": [
        "here we can see that we have outliers in column Average cost for 2.but actually they are not outliers they belongs from different currency .\n",
        "\n",
        "so we don't need to remove them."
      ],
      "metadata": {
        "id": "2D9JpOVCS9Vk"
      }
    },
    {
      "cell_type": "markdown",
      "source": [
        "##**EDA------(EXPLORATORY DATA ANALYSIS)**"
      ],
      "metadata": {
        "id": "bo874De0jwPM"
      }
    },
    {
      "cell_type": "code",
      "source": [
        "corr = final_df.corr(method='kendall')\n",
        "plt.figure(figsize=(13,10))\n",
        "plt.title(\"Correlation Between Different Variables\\n\")\n",
        "sns.heatmap(corr, annot=True)\n",
        "plt.show()"
      ],
      "metadata": {
        "colab": {
          "base_uri": "https://localhost:8080/",
          "height": 717
        },
        "id": "gwSyLltpwIh5",
        "outputId": "77d80c16-8ce2-45c5-dd32-6a6deba25506"
      },
      "execution_count": null,
      "outputs": [
        {
          "output_type": "display_data",
          "data": {
            "image/png": "[encoded data removed]",
            "text/plain": [
              "<Figure size 936x720 with 2 Axes>"
            ]
          },
          "metadata": {
            "needs_background": "light"
          }
        }
      ]
    },
    {
      "cell_type": "markdown",
      "source": [
        "####**QUESTION (1)---WHICH COUNTRY HAS THE HIGHEST COUNT OF ZOMATO..**"
      ],
      "metadata": {
        "id": "vYEwrzusj-VO"
      }
    },
    {
      "cell_type": "code",
      "source": [
        "#columns name of new dataframe\n",
        "countryname=final_df.Country.value_counts().index\n",
        "countryname\n"
      ],
      "metadata": {
        "colab": {
          "base_uri": "https://localhost:8080/"
        },
        "id": "AHN85flbidEm",
        "outputId": "e728814a-5f9c-4111-d46e-f4470d53de16"
      },
      "execution_count": null,
      "outputs": [
        {
          "output_type": "execute_result",
          "data": {
            "text/plain": [
              "Index(['India', 'United States', 'United Kingdom', 'Brazil', 'UAE',\n",
              "       'South Africa', 'New Zealand', 'Turkey', 'Australia', 'Phillipines',\n",
              "       'Indonesia', 'Singapore', 'Qatar', 'Sri Lanka', 'Canada'],\n",
              "      dtype='object')"
            ]
          },
          "metadata": {},
          "execution_count": 25
        }
      ]
    },
    {
      "cell_type": "code",
      "source": [
        "#counts of zomato in each country in new dataframe\n",
        "countofzomato=final_df.Country.value_counts().values\n",
        "countofzomato"
      ],
      "metadata": {
        "colab": {
          "base_uri": "https://localhost:8080/"
        },
        "id": "I2ZSCll7jWRe",
        "outputId": "dc52b610-8c05-4609-80b1-04ebd9c04266"
      },
      "execution_count": null,
      "outputs": [
        {
          "output_type": "execute_result",
          "data": {
            "text/plain": [
              "array([8652,  434,   80,   60,   60,   60,   40,   34,   24,   22,   21,\n",
              "         20,   20,   20,    4])"
            ]
          },
          "metadata": {},
          "execution_count": 26
        }
      ]
    },
    {
      "cell_type": "markdown",
      "source": [
        "india has the maximum base of zomato .so maximum no. of transaction is happenning in India."
      ],
      "metadata": {
        "id": "CZHPKCAjipFp"
      }
    },
    {
      "cell_type": "code",
      "source": [
        "#pie chart top 3 country having largest zomato base\n",
        "plt.pie(countofzomato[0:3],labels=countryname[0:3],autopct=\"%1.2f%%\")\n",
        "plt.show()"
      ],
      "metadata": {
        "colab": {
          "base_uri": "https://localhost:8080/",
          "height": 357
        },
        "id": "TyazryE6jchc",
        "outputId": "c02e311a-6379-4afe-a157-108542cbd138"
      },
      "execution_count": null,
      "outputs": [
        {
          "output_type": "display_data",
          "data": {
            "image/png": "[encoded data removed]",
            "text/plain": [
              "<Figure size 864x432 with 1 Axes>"
            ]
          },
          "metadata": {}
        }
      ]
    },
    {
      "cell_type": "markdown",
      "source": [
        "**-------------------------------INDIA HAS THE HIGHEST COUNT OF ZOMATO .94.39% OF ZOMATO ARE IN INDIA.-----------------------------------**"
      ],
      "metadata": {
        "id": "oTXlfO8QkWLS"
      }
    },
    {
      "cell_type": "markdown",
      "source": [
        "####**QUESTION(2)---RATINGS RECEIVED BY THE ZOMATO MOST.**"
      ],
      "metadata": {
        "id": "CRI4z-eSktji"
      }
    },
    {
      "cell_type": "code",
      "source": [
        "#lets take a look on all ratings categorywise\n",
        "rating=final_df.groupby(['Aggregate rating','Rating color','Rating text']).size().reset_index().rename(columns={0:'Rating Count'})\n",
        "rating"
      ],
      "metadata": {
        "colab": {
          "base_uri": "https://localhost:8080/",
          "height": 1000
        },
        "id": "VQISREiilhYm",
        "outputId": "efbf006c-7afb-4701-df0a-08ecd24d0863"
      },
      "execution_count": null,
      "outputs": [
        {
          "output_type": "execute_result",
          "data": {
            "text/html": [
              "\n",
              "  <div id=\"df-044445d6-5c9a-49eb-93f1-b92904f66cb9\">\n",
              "    <div class=\"colab-df-container\">\n",
              "      <div>\n",
              "<style scoped>\n",
              "    .dataframe tbody tr th:only-of-type {\n",
              "        vertical-align: middle;\n",
              "    }\n",
              "\n",
              "    .dataframe tbody tr th {\n",
              "        vertical-align: top;\n",
              "    }\n",
              "\n",
              "    .dataframe thead th {\n",
              "        text-align: right;\n",
              "    }\n",
              "</style>\n",
              "<table border=\"1\" class=\"dataframe\">\n",
              "  <thead>\n",
              "    <tr style=\"text-align: right;\">\n",
              "      <th></th>\n",
              "      <th>Aggregate rating</th>\n",
              "      <th>Rating color</th>\n",
              "      <th>Rating text</th>\n",
              "      <th>Rating Count</th>\n",
              "    </tr>\n",
              "  </thead>\n",
              "  <tbody>\n",
              "    <tr>\n",
              "      <th>0</th>\n",
              "      <td>0.0</td>\n",
              "      <td>White</td>\n",
              "      <td>Not rated</td>\n",
              "      <td>2148</td>\n",
              "    </tr>\n",
              "    <tr>\n",
              "      <th>1</th>\n",
              "      <td>1.8</td>\n",
              "      <td>Red</td>\n",
              "      <td>Poor</td>\n",
              "      <td>1</td>\n",
              "    </tr>\n",
              "    <tr>\n",
              "      <th>2</th>\n",
              "      <td>1.9</td>\n",
              "      <td>Red</td>\n",
              "      <td>Poor</td>\n",
              "      <td>2</td>\n",
              "    </tr>\n",
              "    <tr>\n",
              "      <th>3</th>\n",
              "      <td>2.0</td>\n",
              "      <td>Red</td>\n",
              "      <td>Poor</td>\n",
              "      <td>7</td>\n",
              "    </tr>\n",
              "    <tr>\n",
              "      <th>4</th>\n",
              "      <td>2.1</td>\n",
              "      <td>Red</td>\n",
              "      <td>Poor</td>\n",
              "      <td>15</td>\n",
              "    </tr>\n",
              "    <tr>\n",
              "      <th>5</th>\n",
              "      <td>2.2</td>\n",
              "      <td>Red</td>\n",
              "      <td>Poor</td>\n",
              "      <td>27</td>\n",
              "    </tr>\n",
              "    <tr>\n",
              "      <th>6</th>\n",
              "      <td>2.3</td>\n",
              "      <td>Red</td>\n",
              "      <td>Poor</td>\n",
              "      <td>47</td>\n",
              "    </tr>\n",
              "    <tr>\n",
              "      <th>7</th>\n",
              "      <td>2.4</td>\n",
              "      <td>Red</td>\n",
              "      <td>Poor</td>\n",
              "      <td>87</td>\n",
              "    </tr>\n",
              "    <tr>\n",
              "      <th>8</th>\n",
              "      <td>2.5</td>\n",
              "      <td>Orange</td>\n",
              "      <td>Average</td>\n",
              "      <td>110</td>\n",
              "    </tr>\n",
              "    <tr>\n",
              "      <th>9</th>\n",
              "      <td>2.6</td>\n",
              "      <td>Orange</td>\n",
              "      <td>Average</td>\n",
              "      <td>191</td>\n",
              "    </tr>\n",
              "    <tr>\n",
              "      <th>10</th>\n",
              "      <td>2.7</td>\n",
              "      <td>Orange</td>\n",
              "      <td>Average</td>\n",
              "      <td>250</td>\n",
              "    </tr>\n",
              "    <tr>\n",
              "      <th>11</th>\n",
              "      <td>2.8</td>\n",
              "      <td>Orange</td>\n",
              "      <td>Average</td>\n",
              "      <td>315</td>\n",
              "    </tr>\n",
              "    <tr>\n",
              "      <th>12</th>\n",
              "      <td>2.9</td>\n",
              "      <td>Orange</td>\n",
              "      <td>Average</td>\n",
              "      <td>381</td>\n",
              "    </tr>\n",
              "    <tr>\n",
              "      <th>13</th>\n",
              "      <td>3.0</td>\n",
              "      <td>Orange</td>\n",
              "      <td>Average</td>\n",
              "      <td>468</td>\n",
              "    </tr>\n",
              "    <tr>\n",
              "      <th>14</th>\n",
              "      <td>3.1</td>\n",
              "      <td>Orange</td>\n",
              "      <td>Average</td>\n",
              "      <td>519</td>\n",
              "    </tr>\n",
              "    <tr>\n",
              "      <th>15</th>\n",
              "      <td>3.2</td>\n",
              "      <td>Orange</td>\n",
              "      <td>Average</td>\n",
              "      <td>522</td>\n",
              "    </tr>\n",
              "    <tr>\n",
              "      <th>16</th>\n",
              "      <td>3.3</td>\n",
              "      <td>Orange</td>\n",
              "      <td>Average</td>\n",
              "      <td>483</td>\n",
              "    </tr>\n",
              "    <tr>\n",
              "      <th>17</th>\n",
              "      <td>3.4</td>\n",
              "      <td>Orange</td>\n",
              "      <td>Average</td>\n",
              "      <td>498</td>\n",
              "    </tr>\n",
              "    <tr>\n",
              "      <th>18</th>\n",
              "      <td>3.5</td>\n",
              "      <td>Yellow</td>\n",
              "      <td>Good</td>\n",
              "      <td>480</td>\n",
              "    </tr>\n",
              "    <tr>\n",
              "      <th>19</th>\n",
              "      <td>3.6</td>\n",
              "      <td>Yellow</td>\n",
              "      <td>Good</td>\n",
              "      <td>458</td>\n",
              "    </tr>\n",
              "    <tr>\n",
              "      <th>20</th>\n",
              "      <td>3.7</td>\n",
              "      <td>Yellow</td>\n",
              "      <td>Good</td>\n",
              "      <td>427</td>\n",
              "    </tr>\n",
              "    <tr>\n",
              "      <th>21</th>\n",
              "      <td>3.8</td>\n",
              "      <td>Yellow</td>\n",
              "      <td>Good</td>\n",
              "      <td>400</td>\n",
              "    </tr>\n",
              "    <tr>\n",
              "      <th>22</th>\n",
              "      <td>3.9</td>\n",
              "      <td>Yellow</td>\n",
              "      <td>Good</td>\n",
              "      <td>335</td>\n",
              "    </tr>\n",
              "    <tr>\n",
              "      <th>23</th>\n",
              "      <td>4.0</td>\n",
              "      <td>Green</td>\n",
              "      <td>Very Good</td>\n",
              "      <td>266</td>\n",
              "    </tr>\n",
              "    <tr>\n",
              "      <th>24</th>\n",
              "      <td>4.1</td>\n",
              "      <td>Green</td>\n",
              "      <td>Very Good</td>\n",
              "      <td>274</td>\n",
              "    </tr>\n",
              "    <tr>\n",
              "      <th>25</th>\n",
              "      <td>4.2</td>\n",
              "      <td>Green</td>\n",
              "      <td>Very Good</td>\n",
              "      <td>221</td>\n",
              "    </tr>\n",
              "    <tr>\n",
              "      <th>26</th>\n",
              "      <td>4.3</td>\n",
              "      <td>Green</td>\n",
              "      <td>Very Good</td>\n",
              "      <td>174</td>\n",
              "    </tr>\n",
              "    <tr>\n",
              "      <th>27</th>\n",
              "      <td>4.4</td>\n",
              "      <td>Green</td>\n",
              "      <td>Very Good</td>\n",
              "      <td>144</td>\n",
              "    </tr>\n",
              "    <tr>\n",
              "      <th>28</th>\n",
              "      <td>4.5</td>\n",
              "      <td>Dark Green</td>\n",
              "      <td>Excellent</td>\n",
              "      <td>95</td>\n",
              "    </tr>\n",
              "    <tr>\n",
              "      <th>29</th>\n",
              "      <td>4.6</td>\n",
              "      <td>Dark Green</td>\n",
              "      <td>Excellent</td>\n",
              "      <td>78</td>\n",
              "    </tr>\n",
              "    <tr>\n",
              "      <th>30</th>\n",
              "      <td>4.7</td>\n",
              "      <td>Dark Green</td>\n",
              "      <td>Excellent</td>\n",
              "      <td>42</td>\n",
              "    </tr>\n",
              "    <tr>\n",
              "      <th>31</th>\n",
              "      <td>4.8</td>\n",
              "      <td>Dark Green</td>\n",
              "      <td>Excellent</td>\n",
              "      <td>25</td>\n",
              "    </tr>\n",
              "    <tr>\n",
              "      <th>32</th>\n",
              "      <td>4.9</td>\n",
              "      <td>Dark Green</td>\n",
              "      <td>Excellent</td>\n",
              "      <td>61</td>\n",
              "    </tr>\n",
              "  </tbody>\n",
              "</table>\n",
              "</div>\n",
              "      <button class=\"colab-df-convert\" onclick=\"convertToInteractive('df-044445d6-5c9a-49eb-93f1-b92904f66cb9')\"\n",
              "              title=\"Convert this dataframe to an interactive table.\"\n",
              "              style=\"display:none;\">\n",
              "        \n",
              "  <svg xmlns=\"http://www.w3.org/2000/svg\" height=\"24px\"viewBox=\"0 0 24 24\"\n",
              "       width=\"24px\">\n",
              "    <path d=\"M0 0h24v24H0V0z\" fill=\"none\"/>\n",
              "    <path d=\"M18.56 5.44l.94 2.06.94-2.06 2.06-.94-2.06-.94-.94-2.06-.94 2.06-2.06.94zm-11 1L8.5 8.5l.94-2.06 2.06-.94-2.06-.94L8.5 2.5l-.94 2.06-2.06.94zm10 10l.94 2.06.94-2.06 2.06-.94-2.06-.94-.94-2.06-.94 2.06-2.06.94z\"/><path d=\"M17.41 7.96l-1.37-1.37c-.4-.4-.92-.59-1.43-.59-.52 0-1.04.2-1.43.59L10.3 9.45l-7.72 7.72c-.78.78-.78 2.05 0 2.83L4 21.41c.39.39.9.59 1.41.59.51 0 1.02-.2 1.41-.59l7.78-7.78 2.81-2.81c.8-.78.8-2.07 0-2.86zM5.41 20L4 18.59l7.72-7.72 1.47 1.35L5.41 20z\"/>\n",
              "  </svg>\n",
              "      </button>\n",
              "      \n",
              "  <style>\n",
              "    .colab-df-container {\n",
              "      display:flex;\n",
              "      flex-wrap:wrap;\n",
              "      gap: 12px;\n",
              "    }\n",
              "\n",
              "    .colab-df-convert {\n",
              "      background-color: #E8F0FE;\n",
              "      border: none;\n",
              "      border-radius: 50%;\n",
              "      cursor: pointer;\n",
              "      display: none;\n",
              "      fill: #1967D2;\n",
              "      height: 32px;\n",
              "      padding: 0 0 0 0;\n",
              "      width: 32px;\n",
              "    }\n",
              "\n",
              "    .colab-df-convert:hover {\n",
              "      background-color: #E2EBFA;\n",
              "      box-shadow: 0px 1px 2px rgba(60, 64, 67, 0.3), 0px 1px 3px 1px rgba(60, 64, 67, 0.15);\n",
              "      fill: #174EA6;\n",
              "    }\n",
              "\n",
              "    [theme=dark] .colab-df-convert {\n",
              "      background-color: #3B4455;\n",
              "      fill: #D2E3FC;\n",
              "    }\n",
              "\n",
              "    [theme=dark] .colab-df-convert:hover {\n",
              "      background-color: #434B5C;\n",
              "      box-shadow: 0px 1px 3px 1px rgba(0, 0, 0, 0.15);\n",
              "      filter: drop-shadow(0px 1px 2px rgba(0, 0, 0, 0.3));\n",
              "      fill: #FFFFFF;\n",
              "    }\n",
              "  </style>\n",
              "\n",
              "      <script>\n",
              "        const buttonEl =\n",
              "          document.querySelector('#df-044445d6-5c9a-49eb-93f1-b92904f66cb9 button.colab-df-convert');\n",
              "        buttonEl.style.display =\n",
              "          google.colab.kernel.accessAllowed ? 'block' : 'none';\n",
              "\n",
              "        async function convertToInteractive(key) {\n",
              "          const element = document.querySelector('#df-044445d6-5c9a-49eb-93f1-b92904f66cb9');\n",
              "          const dataTable =\n",
              "            await google.colab.kernel.invokeFunction('convertToInteractive',\n",
              "                                                     [key], {});\n",
              "          if (!dataTable) return;\n",
              "\n",
              "          const docLinkHtml = 'Like what you see? Visit the ' +\n",
              "            '<a target=\"_blank\" href=https://colab.research.google.com/notebooks/data_table.ipynb>data table notebook</a>'\n",
              "            + ' to learn more about interactive tables.';\n",
              "          element.innerHTML = '';\n",
              "          dataTable['output_type'] = 'display_data';\n",
              "          await google.colab.output.renderOutput(dataTable, element);\n",
              "          const docLink = document.createElement('div');\n",
              "          docLink.innerHTML = docLinkHtml;\n",
              "          element.appendChild(docLink);\n",
              "        }\n",
              "      </script>\n",
              "    </div>\n",
              "  </div>\n",
              "  "
            ],
            "text/plain": [
              "    Aggregate rating Rating color Rating text  Rating Count\n",
              "0                0.0        White   Not rated          2148\n",
              "1                1.8          Red        Poor             1\n",
              "2                1.9          Red        Poor             2\n",
              "3                2.0          Red        Poor             7\n",
              "4                2.1          Red        Poor            15\n",
              "5                2.2          Red        Poor            27\n",
              "6                2.3          Red        Poor            47\n",
              "7                2.4          Red        Poor            87\n",
              "8                2.5       Orange     Average           110\n",
              "9                2.6       Orange     Average           191\n",
              "10               2.7       Orange     Average           250\n",
              "11               2.8       Orange     Average           315\n",
              "12               2.9       Orange     Average           381\n",
              "13               3.0       Orange     Average           468\n",
              "14               3.1       Orange     Average           519\n",
              "15               3.2       Orange     Average           522\n",
              "16               3.3       Orange     Average           483\n",
              "17               3.4       Orange     Average           498\n",
              "18               3.5       Yellow        Good           480\n",
              "19               3.6       Yellow        Good           458\n",
              "20               3.7       Yellow        Good           427\n",
              "21               3.8       Yellow        Good           400\n",
              "22               3.9       Yellow        Good           335\n",
              "23               4.0        Green   Very Good           266\n",
              "24               4.1        Green   Very Good           274\n",
              "25               4.2        Green   Very Good           221\n",
              "26               4.3        Green   Very Good           174\n",
              "27               4.4        Green   Very Good           144\n",
              "28               4.5   Dark Green   Excellent            95\n",
              "29               4.6   Dark Green   Excellent            78\n",
              "30               4.7   Dark Green   Excellent            42\n",
              "31               4.8   Dark Green   Excellent            25\n",
              "32               4.9   Dark Green   Excellent            61"
            ]
          },
          "metadata": {},
          "execution_count": 28
        }
      ]
    },
    {
      "cell_type": "markdown",
      "source": [
        "what we observe is that---\n",
        "\n",
        "when ratings is between 4.5 to 4.9 --->Excellent\n",
        "\n",
        "when rating is between 4.0 to 4.4 is ---->very good\n",
        "\n",
        "when rating is between 3.5 to 3.9 is ---->good\n",
        "\n",
        "when rating is between 2.5 to 3.4 is ---->average\n",
        "\n",
        "when rating is between 1.8 to 2.4 is ---->poor\n",
        "\n",
        "\n",
        "we can observe here that,\n",
        "\n",
        "highest number of zomato have--> 0 ratings (not rated count are highest)\n",
        "\n",
        "and maximum ratings are between  2.5 to 3.4."
      ],
      "metadata": {
        "id": "OeDA7VEMmFdd"
      }
    },
    {
      "cell_type": "code",
      "source": [
        "#barplot to show the relation between aggregate raing and rating count\n",
        "\n",
        "sns.barplot(x=\"Aggregate rating\",y=\"Rating Count\",hue='Rating color',data=rating,palette=['blue','red','orange','yellow','Green','darkGreen'])\n",
        "plt.grid()"
      ],
      "metadata": {
        "colab": {
          "base_uri": "https://localhost:8080/",
          "height": 387
        },
        "id": "zL_9fm4mm2Yq",
        "outputId": "ba2435f4-3860-4668-8049-a87f21082792"
      },
      "execution_count": null,
      "outputs": [
        {
          "output_type": "display_data",
          "data": {
            "image/png": "[encoded data removed]",
            "text/plain": [
              "<Figure size 864x432 with 1 Axes>"
            ]
          },
          "metadata": {
            "needs_background": "light"
          }
        }
      ]
    },
    {
      "cell_type": "markdown",
      "source": [
        "**----------------------------------we can observe that zomato is rated most between 2.5 to 3.4.--------------------------------------**"
      ],
      "metadata": {
        "id": "rP2KC9J3ltTw"
      }
    },
    {
      "cell_type": "code",
      "source": [
        "#find the country name given the 4.9 ratings\n",
        "zeroratingcountry=final_df[final_df[\"Aggregate rating\"]==4.9].groupby(['Country','Aggregate rating']).size().reset_index().rename(columns={0:'counts'})\n",
        "zeroratingcountry"
      ],
      "metadata": {
        "colab": {
          "base_uri": "https://localhost:8080/",
          "height": 426
        },
        "id": "D7PxTZSPz1JK",
        "outputId": "750308f7-decc-4a94-ff88-82eb4b994b41"
      },
      "execution_count": null,
      "outputs": [
        {
          "output_type": "execute_result",
          "data": {
            "text/html": [
              "\n",
              "  <div id=\"df-a2683b8d-4a71-4c4a-90e4-ab2d76e177ab\">\n",
              "    <div class=\"colab-df-container\">\n",
              "      <div>\n",
              "<style scoped>\n",
              "    .dataframe tbody tr th:only-of-type {\n",
              "        vertical-align: middle;\n",
              "    }\n",
              "\n",
              "    .dataframe tbody tr th {\n",
              "        vertical-align: top;\n",
              "    }\n",
              "\n",
              "    .dataframe thead th {\n",
              "        text-align: right;\n",
              "    }\n",
              "</style>\n",
              "<table border=\"1\" class=\"dataframe\">\n",
              "  <thead>\n",
              "    <tr style=\"text-align: right;\">\n",
              "      <th></th>\n",
              "      <th>Country</th>\n",
              "      <th>Aggregate rating</th>\n",
              "      <th>counts</th>\n",
              "    </tr>\n",
              "  </thead>\n",
              "  <tbody>\n",
              "    <tr>\n",
              "      <th>0</th>\n",
              "      <td>Brazil</td>\n",
              "      <td>4.9</td>\n",
              "      <td>3</td>\n",
              "    </tr>\n",
              "    <tr>\n",
              "      <th>1</th>\n",
              "      <td>India</td>\n",
              "      <td>4.9</td>\n",
              "      <td>19</td>\n",
              "    </tr>\n",
              "    <tr>\n",
              "      <th>2</th>\n",
              "      <td>Indonesia</td>\n",
              "      <td>4.9</td>\n",
              "      <td>4</td>\n",
              "    </tr>\n",
              "    <tr>\n",
              "      <th>3</th>\n",
              "      <td>New Zealand</td>\n",
              "      <td>4.9</td>\n",
              "      <td>2</td>\n",
              "    </tr>\n",
              "    <tr>\n",
              "      <th>4</th>\n",
              "      <td>Phillipines</td>\n",
              "      <td>4.9</td>\n",
              "      <td>3</td>\n",
              "    </tr>\n",
              "    <tr>\n",
              "      <th>5</th>\n",
              "      <td>Qatar</td>\n",
              "      <td>4.9</td>\n",
              "      <td>1</td>\n",
              "    </tr>\n",
              "    <tr>\n",
              "      <th>6</th>\n",
              "      <td>South Africa</td>\n",
              "      <td>4.9</td>\n",
              "      <td>3</td>\n",
              "    </tr>\n",
              "    <tr>\n",
              "      <th>7</th>\n",
              "      <td>Sri Lanka</td>\n",
              "      <td>4.9</td>\n",
              "      <td>1</td>\n",
              "    </tr>\n",
              "    <tr>\n",
              "      <th>8</th>\n",
              "      <td>Turkey</td>\n",
              "      <td>4.9</td>\n",
              "      <td>3</td>\n",
              "    </tr>\n",
              "    <tr>\n",
              "      <th>9</th>\n",
              "      <td>UAE</td>\n",
              "      <td>4.9</td>\n",
              "      <td>4</td>\n",
              "    </tr>\n",
              "    <tr>\n",
              "      <th>10</th>\n",
              "      <td>United Kingdom</td>\n",
              "      <td>4.9</td>\n",
              "      <td>4</td>\n",
              "    </tr>\n",
              "    <tr>\n",
              "      <th>11</th>\n",
              "      <td>United States</td>\n",
              "      <td>4.9</td>\n",
              "      <td>14</td>\n",
              "    </tr>\n",
              "  </tbody>\n",
              "</table>\n",
              "</div>\n",
              "      <button class=\"colab-df-convert\" onclick=\"convertToInteractive('df-a2683b8d-4a71-4c4a-90e4-ab2d76e177ab')\"\n",
              "              title=\"Convert this dataframe to an interactive table.\"\n",
              "              style=\"display:none;\">\n",
              "        \n",
              "  <svg xmlns=\"http://www.w3.org/2000/svg\" height=\"24px\"viewBox=\"0 0 24 24\"\n",
              "       width=\"24px\">\n",
              "    <path d=\"M0 0h24v24H0V0z\" fill=\"none\"/>\n",
              "    <path d=\"M18.56 5.44l.94 2.06.94-2.06 2.06-.94-2.06-.94-.94-2.06-.94 2.06-2.06.94zm-11 1L8.5 8.5l.94-2.06 2.06-.94-2.06-.94L8.5 2.5l-.94 2.06-2.06.94zm10 10l.94 2.06.94-2.06 2.06-.94-2.06-.94-.94-2.06-.94 2.06-2.06.94z\"/><path d=\"M17.41 7.96l-1.37-1.37c-.4-.4-.92-.59-1.43-.59-.52 0-1.04.2-1.43.59L10.3 9.45l-7.72 7.72c-.78.78-.78 2.05 0 2.83L4 21.41c.39.39.9.59 1.41.59.51 0 1.02-.2 1.41-.59l7.78-7.78 2.81-2.81c.8-.78.8-2.07 0-2.86zM5.41 20L4 18.59l7.72-7.72 1.47 1.35L5.41 20z\"/>\n",
              "  </svg>\n",
              "      </button>\n",
              "      \n",
              "  <style>\n",
              "    .colab-df-container {\n",
              "      display:flex;\n",
              "      flex-wrap:wrap;\n",
              "      gap: 12px;\n",
              "    }\n",
              "\n",
              "    .colab-df-convert {\n",
              "      background-color: #E8F0FE;\n",
              "      border: none;\n",
              "      border-radius: 50%;\n",
              "      cursor: pointer;\n",
              "      display: none;\n",
              "      fill: #1967D2;\n",
              "      height: 32px;\n",
              "      padding: 0 0 0 0;\n",
              "      width: 32px;\n",
              "    }\n",
              "\n",
              "    .colab-df-convert:hover {\n",
              "      background-color: #E2EBFA;\n",
              "      box-shadow: 0px 1px 2px rgba(60, 64, 67, 0.3), 0px 1px 3px 1px rgba(60, 64, 67, 0.15);\n",
              "      fill: #174EA6;\n",
              "    }\n",
              "\n",
              "    [theme=dark] .colab-df-convert {\n",
              "      background-color: #3B4455;\n",
              "      fill: #D2E3FC;\n",
              "    }\n",
              "\n",
              "    [theme=dark] .colab-df-convert:hover {\n",
              "      background-color: #434B5C;\n",
              "      box-shadow: 0px 1px 3px 1px rgba(0, 0, 0, 0.15);\n",
              "      filter: drop-shadow(0px 1px 2px rgba(0, 0, 0, 0.3));\n",
              "      fill: #FFFFFF;\n",
              "    }\n",
              "  </style>\n",
              "\n",
              "      <script>\n",
              "        const buttonEl =\n",
              "          document.querySelector('#df-a2683b8d-4a71-4c4a-90e4-ab2d76e177ab button.colab-df-convert');\n",
              "        buttonEl.style.display =\n",
              "          google.colab.kernel.accessAllowed ? 'block' : 'none';\n",
              "\n",
              "        async function convertToInteractive(key) {\n",
              "          const element = document.querySelector('#df-a2683b8d-4a71-4c4a-90e4-ab2d76e177ab');\n",
              "          const dataTable =\n",
              "            await google.colab.kernel.invokeFunction('convertToInteractive',\n",
              "                                                     [key], {});\n",
              "          if (!dataTable) return;\n",
              "\n",
              "          const docLinkHtml = 'Like what you see? Visit the ' +\n",
              "            '<a target=\"_blank\" href=https://colab.research.google.com/notebooks/data_table.ipynb>data table notebook</a>'\n",
              "            + ' to learn more about interactive tables.';\n",
              "          element.innerHTML = '';\n",
              "          dataTable['output_type'] = 'display_data';\n",
              "          await google.colab.output.renderOutput(dataTable, element);\n",
              "          const docLink = document.createElement('div');\n",
              "          docLink.innerHTML = docLinkHtml;\n",
              "          element.appendChild(docLink);\n",
              "        }\n",
              "      </script>\n",
              "    </div>\n",
              "  </div>\n",
              "  "
            ],
            "text/plain": [
              "           Country  Aggregate rating  counts\n",
              "0           Brazil               4.9       3\n",
              "1            India               4.9      19\n",
              "2        Indonesia               4.9       4\n",
              "3      New Zealand               4.9       2\n",
              "4      Phillipines               4.9       3\n",
              "5            Qatar               4.9       1\n",
              "6     South Africa               4.9       3\n",
              "7        Sri Lanka               4.9       1\n",
              "8           Turkey               4.9       3\n",
              "9              UAE               4.9       4\n",
              "10  United Kingdom               4.9       4\n",
              "11   United States               4.9      14"
            ]
          },
          "metadata": {},
          "execution_count": 30
        }
      ]
    },
    {
      "cell_type": "code",
      "source": [
        "#find the country name given the 0 ratings\n",
        "zeroratingcountry=final_df[final_df[\"Aggregate rating\"]==0.0].groupby(['Country','Aggregate rating']).size().reset_index().rename(columns={0:'counts'})\n",
        "zeroratingcountry"
      ],
      "metadata": {
        "colab": {
          "base_uri": "https://localhost:8080/",
          "height": 175
        },
        "id": "wAj2u9SEmpwD",
        "outputId": "abf523d2-064d-4dad-97e0-dd1b84921e4a"
      },
      "execution_count": null,
      "outputs": [
        {
          "output_type": "execute_result",
          "data": {
            "text/html": [
              "\n",
              "  <div id=\"df-b62467e5-a89a-4f7c-9850-a2d8b337e66f\">\n",
              "    <div class=\"colab-df-container\">\n",
              "      <div>\n",
              "<style scoped>\n",
              "    .dataframe tbody tr th:only-of-type {\n",
              "        vertical-align: middle;\n",
              "    }\n",
              "\n",
              "    .dataframe tbody tr th {\n",
              "        vertical-align: top;\n",
              "    }\n",
              "\n",
              "    .dataframe thead th {\n",
              "        text-align: right;\n",
              "    }\n",
              "</style>\n",
              "<table border=\"1\" class=\"dataframe\">\n",
              "  <thead>\n",
              "    <tr style=\"text-align: right;\">\n",
              "      <th></th>\n",
              "      <th>Country</th>\n",
              "      <th>Aggregate rating</th>\n",
              "      <th>counts</th>\n",
              "    </tr>\n",
              "  </thead>\n",
              "  <tbody>\n",
              "    <tr>\n",
              "      <th>0</th>\n",
              "      <td>Brazil</td>\n",
              "      <td>0.0</td>\n",
              "      <td>5</td>\n",
              "    </tr>\n",
              "    <tr>\n",
              "      <th>1</th>\n",
              "      <td>India</td>\n",
              "      <td>0.0</td>\n",
              "      <td>2139</td>\n",
              "    </tr>\n",
              "    <tr>\n",
              "      <th>2</th>\n",
              "      <td>United Kingdom</td>\n",
              "      <td>0.0</td>\n",
              "      <td>1</td>\n",
              "    </tr>\n",
              "    <tr>\n",
              "      <th>3</th>\n",
              "      <td>United States</td>\n",
              "      <td>0.0</td>\n",
              "      <td>3</td>\n",
              "    </tr>\n",
              "  </tbody>\n",
              "</table>\n",
              "</div>\n",
              "      <button class=\"colab-df-convert\" onclick=\"convertToInteractive('df-b62467e5-a89a-4f7c-9850-a2d8b337e66f')\"\n",
              "              title=\"Convert this dataframe to an interactive table.\"\n",
              "              style=\"display:none;\">\n",
              "        \n",
              "  <svg xmlns=\"http://www.w3.org/2000/svg\" height=\"24px\"viewBox=\"0 0 24 24\"\n",
              "       width=\"24px\">\n",
              "    <path d=\"M0 0h24v24H0V0z\" fill=\"none\"/>\n",
              "    <path d=\"M18.56 5.44l.94 2.06.94-2.06 2.06-.94-2.06-.94-.94-2.06-.94 2.06-2.06.94zm-11 1L8.5 8.5l.94-2.06 2.06-.94-2.06-.94L8.5 2.5l-.94 2.06-2.06.94zm10 10l.94 2.06.94-2.06 2.06-.94-2.06-.94-.94-2.06-.94 2.06-2.06.94z\"/><path d=\"M17.41 7.96l-1.37-1.37c-.4-.4-.92-.59-1.43-.59-.52 0-1.04.2-1.43.59L10.3 9.45l-7.72 7.72c-.78.78-.78 2.05 0 2.83L4 21.41c.39.39.9.59 1.41.59.51 0 1.02-.2 1.41-.59l7.78-7.78 2.81-2.81c.8-.78.8-2.07 0-2.86zM5.41 20L4 18.59l7.72-7.72 1.47 1.35L5.41 20z\"/>\n",
              "  </svg>\n",
              "      </button>\n",
              "      \n",
              "  <style>\n",
              "    .colab-df-container {\n",
              "      display:flex;\n",
              "      flex-wrap:wrap;\n",
              "      gap: 12px;\n",
              "    }\n",
              "\n",
              "    .colab-df-convert {\n",
              "      background-color: #E8F0FE;\n",
              "      border: none;\n",
              "      border-radius: 50%;\n",
              "      cursor: pointer;\n",
              "      display: none;\n",
              "      fill: #1967D2;\n",
              "      height: 32px;\n",
              "      padding: 0 0 0 0;\n",
              "      width: 32px;\n",
              "    }\n",
              "\n",
              "    .colab-df-convert:hover {\n",
              "      background-color: #E2EBFA;\n",
              "      box-shadow: 0px 1px 2px rgba(60, 64, 67, 0.3), 0px 1px 3px 1px rgba(60, 64, 67, 0.15);\n",
              "      fill: #174EA6;\n",
              "    }\n",
              "\n",
              "    [theme=dark] .colab-df-convert {\n",
              "      background-color: #3B4455;\n",
              "      fill: #D2E3FC;\n",
              "    }\n",
              "\n",
              "    [theme=dark] .colab-df-convert:hover {\n",
              "      background-color: #434B5C;\n",
              "      box-shadow: 0px 1px 3px 1px rgba(0, 0, 0, 0.15);\n",
              "      filter: drop-shadow(0px 1px 2px rgba(0, 0, 0, 0.3));\n",
              "      fill: #FFFFFF;\n",
              "    }\n",
              "  </style>\n",
              "\n",
              "      <script>\n",
              "        const buttonEl =\n",
              "          document.querySelector('#df-b62467e5-a89a-4f7c-9850-a2d8b337e66f button.colab-df-convert');\n",
              "        buttonEl.style.display =\n",
              "          google.colab.kernel.accessAllowed ? 'block' : 'none';\n",
              "\n",
              "        async function convertToInteractive(key) {\n",
              "          const element = document.querySelector('#df-b62467e5-a89a-4f7c-9850-a2d8b337e66f');\n",
              "          const dataTable =\n",
              "            await google.colab.kernel.invokeFunction('convertToInteractive',\n",
              "                                                     [key], {});\n",
              "          if (!dataTable) return;\n",
              "\n",
              "          const docLinkHtml = 'Like what you see? Visit the ' +\n",
              "            '<a target=\"_blank\" href=https://colab.research.google.com/notebooks/data_table.ipynb>data table notebook</a>'\n",
              "            + ' to learn more about interactive tables.';\n",
              "          element.innerHTML = '';\n",
              "          dataTable['output_type'] = 'display_data';\n",
              "          await google.colab.output.renderOutput(dataTable, element);\n",
              "          const docLink = document.createElement('div');\n",
              "          docLink.innerHTML = docLinkHtml;\n",
              "          element.appendChild(docLink);\n",
              "        }\n",
              "      </script>\n",
              "    </div>\n",
              "  </div>\n",
              "  "
            ],
            "text/plain": [
              "          Country  Aggregate rating  counts\n",
              "0          Brazil               0.0       5\n",
              "1           India               0.0    2139\n",
              "2  United Kingdom               0.0       1\n",
              "3   United States               0.0       3"
            ]
          },
          "metadata": {},
          "execution_count": 31
        }
      ]
    },
    {
      "cell_type": "markdown",
      "source": [
        "**---------------------maximum number of 0 and 4.9 ratings are from India.-------------------------------**"
      ],
      "metadata": {
        "id": "2WYFZXv33esG"
      }
    },
    {
      "cell_type": "markdown",
      "source": [
        "####**QUESTION(3)---WHICH COUNTRY DID THE MAXIMUM TRANSACTION.**"
      ],
      "metadata": {
        "id": "_ZNAi2u2m0Xj"
      }
    },
    {
      "cell_type": "code",
      "source": [
        "#find out which currency is used by which country\n",
        "curencycount=final_df.groupby(['Country','Currency']).size().reset_index().rename(columns={0:'curr.count'})\n",
        "curencycount"
      ],
      "metadata": {
        "colab": {
          "base_uri": "https://localhost:8080/",
          "height": 520
        },
        "id": "Y9rBPLHx2cqh",
        "outputId": "5f674b00-461e-4cb3-82d6-0ed62d7a16cb"
      },
      "execution_count": null,
      "outputs": [
        {
          "output_type": "execute_result",
          "data": {
            "text/html": [
              "\n",
              "  <div id=\"df-8f67063c-ada1-4de8-9ba3-47e398f165a0\">\n",
              "    <div class=\"colab-df-container\">\n",
              "      <div>\n",
              "<style scoped>\n",
              "    .dataframe tbody tr th:only-of-type {\n",
              "        vertical-align: middle;\n",
              "    }\n",
              "\n",
              "    .dataframe tbody tr th {\n",
              "        vertical-align: top;\n",
              "    }\n",
              "\n",
              "    .dataframe thead th {\n",
              "        text-align: right;\n",
              "    }\n",
              "</style>\n",
              "<table border=\"1\" class=\"dataframe\">\n",
              "  <thead>\n",
              "    <tr style=\"text-align: right;\">\n",
              "      <th></th>\n",
              "      <th>Country</th>\n",
              "      <th>Currency</th>\n",
              "      <th>curr.count</th>\n",
              "    </tr>\n",
              "  </thead>\n",
              "  <tbody>\n",
              "    <tr>\n",
              "      <th>0</th>\n",
              "      <td>Australia</td>\n",
              "      <td>Dollar($)</td>\n",
              "      <td>24</td>\n",
              "    </tr>\n",
              "    <tr>\n",
              "      <th>1</th>\n",
              "      <td>Brazil</td>\n",
              "      <td>Brazilian Real(R$)</td>\n",
              "      <td>60</td>\n",
              "    </tr>\n",
              "    <tr>\n",
              "      <th>2</th>\n",
              "      <td>Canada</td>\n",
              "      <td>Dollar($)</td>\n",
              "      <td>4</td>\n",
              "    </tr>\n",
              "    <tr>\n",
              "      <th>3</th>\n",
              "      <td>India</td>\n",
              "      <td>Indian Rupees(Rs.)</td>\n",
              "      <td>8652</td>\n",
              "    </tr>\n",
              "    <tr>\n",
              "      <th>4</th>\n",
              "      <td>Indonesia</td>\n",
              "      <td>Indonesian Rupiah(IDR)</td>\n",
              "      <td>21</td>\n",
              "    </tr>\n",
              "    <tr>\n",
              "      <th>5</th>\n",
              "      <td>New Zealand</td>\n",
              "      <td>NewZealand($)</td>\n",
              "      <td>40</td>\n",
              "    </tr>\n",
              "    <tr>\n",
              "      <th>6</th>\n",
              "      <td>Phillipines</td>\n",
              "      <td>Botswana Pula(P)</td>\n",
              "      <td>22</td>\n",
              "    </tr>\n",
              "    <tr>\n",
              "      <th>7</th>\n",
              "      <td>Qatar</td>\n",
              "      <td>Qatari Rial(QR)</td>\n",
              "      <td>20</td>\n",
              "    </tr>\n",
              "    <tr>\n",
              "      <th>8</th>\n",
              "      <td>Singapore</td>\n",
              "      <td>Dollar($)</td>\n",
              "      <td>20</td>\n",
              "    </tr>\n",
              "    <tr>\n",
              "      <th>9</th>\n",
              "      <td>South Africa</td>\n",
              "      <td>Rand(R)</td>\n",
              "      <td>60</td>\n",
              "    </tr>\n",
              "    <tr>\n",
              "      <th>10</th>\n",
              "      <td>Sri Lanka</td>\n",
              "      <td>Sri Lankan Rupee(LKR)</td>\n",
              "      <td>20</td>\n",
              "    </tr>\n",
              "    <tr>\n",
              "      <th>11</th>\n",
              "      <td>Turkey</td>\n",
              "      <td>Turkish Lira(TL)</td>\n",
              "      <td>34</td>\n",
              "    </tr>\n",
              "    <tr>\n",
              "      <th>12</th>\n",
              "      <td>UAE</td>\n",
              "      <td>Emirati Diram(AED)</td>\n",
              "      <td>60</td>\n",
              "    </tr>\n",
              "    <tr>\n",
              "      <th>13</th>\n",
              "      <td>United Kingdom</td>\n",
              "      <td>Pounds(£)</td>\n",
              "      <td>80</td>\n",
              "    </tr>\n",
              "    <tr>\n",
              "      <th>14</th>\n",
              "      <td>United States</td>\n",
              "      <td>Dollar($)</td>\n",
              "      <td>434</td>\n",
              "    </tr>\n",
              "  </tbody>\n",
              "</table>\n",
              "</div>\n",
              "      <button class=\"colab-df-convert\" onclick=\"convertToInteractive('df-8f67063c-ada1-4de8-9ba3-47e398f165a0')\"\n",
              "              title=\"Convert this dataframe to an interactive table.\"\n",
              "              style=\"display:none;\">\n",
              "        \n",
              "  <svg xmlns=\"http://www.w3.org/2000/svg\" height=\"24px\"viewBox=\"0 0 24 24\"\n",
              "       width=\"24px\">\n",
              "    <path d=\"M0 0h24v24H0V0z\" fill=\"none\"/>\n",
              "    <path d=\"M18.56 5.44l.94 2.06.94-2.06 2.06-.94-2.06-.94-.94-2.06-.94 2.06-2.06.94zm-11 1L8.5 8.5l.94-2.06 2.06-.94-2.06-.94L8.5 2.5l-.94 2.06-2.06.94zm10 10l.94 2.06.94-2.06 2.06-.94-2.06-.94-.94-2.06-.94 2.06-2.06.94z\"/><path d=\"M17.41 7.96l-1.37-1.37c-.4-.4-.92-.59-1.43-.59-.52 0-1.04.2-1.43.59L10.3 9.45l-7.72 7.72c-.78.78-.78 2.05 0 2.83L4 21.41c.39.39.9.59 1.41.59.51 0 1.02-.2 1.41-.59l7.78-7.78 2.81-2.81c.8-.78.8-2.07 0-2.86zM5.41 20L4 18.59l7.72-7.72 1.47 1.35L5.41 20z\"/>\n",
              "  </svg>\n",
              "      </button>\n",
              "      \n",
              "  <style>\n",
              "    .colab-df-container {\n",
              "      display:flex;\n",
              "      flex-wrap:wrap;\n",
              "      gap: 12px;\n",
              "    }\n",
              "\n",
              "    .colab-df-convert {\n",
              "      background-color: #E8F0FE;\n",
              "      border: none;\n",
              "      border-radius: 50%;\n",
              "      cursor: pointer;\n",
              "      display: none;\n",
              "      fill: #1967D2;\n",
              "      height: 32px;\n",
              "      padding: 0 0 0 0;\n",
              "      width: 32px;\n",
              "    }\n",
              "\n",
              "    .colab-df-convert:hover {\n",
              "      background-color: #E2EBFA;\n",
              "      box-shadow: 0px 1px 2px rgba(60, 64, 67, 0.3), 0px 1px 3px 1px rgba(60, 64, 67, 0.15);\n",
              "      fill: #174EA6;\n",
              "    }\n",
              "\n",
              "    [theme=dark] .colab-df-convert {\n",
              "      background-color: #3B4455;\n",
              "      fill: #D2E3FC;\n",
              "    }\n",
              "\n",
              "    [theme=dark] .colab-df-convert:hover {\n",
              "      background-color: #434B5C;\n",
              "      box-shadow: 0px 1px 3px 1px rgba(0, 0, 0, 0.15);\n",
              "      filter: drop-shadow(0px 1px 2px rgba(0, 0, 0, 0.3));\n",
              "      fill: #FFFFFF;\n",
              "    }\n",
              "  </style>\n",
              "\n",
              "      <script>\n",
              "        const buttonEl =\n",
              "          document.querySelector('#df-8f67063c-ada1-4de8-9ba3-47e398f165a0 button.colab-df-convert');\n",
              "        buttonEl.style.display =\n",
              "          google.colab.kernel.accessAllowed ? 'block' : 'none';\n",
              "\n",
              "        async function convertToInteractive(key) {\n",
              "          const element = document.querySelector('#df-8f67063c-ada1-4de8-9ba3-47e398f165a0');\n",
              "          const dataTable =\n",
              "            await google.colab.kernel.invokeFunction('convertToInteractive',\n",
              "                                                     [key], {});\n",
              "          if (!dataTable) return;\n",
              "\n",
              "          const docLinkHtml = 'Like what you see? Visit the ' +\n",
              "            '<a target=\"_blank\" href=https://colab.research.google.com/notebooks/data_table.ipynb>data table notebook</a>'\n",
              "            + ' to learn more about interactive tables.';\n",
              "          element.innerHTML = '';\n",
              "          dataTable['output_type'] = 'display_data';\n",
              "          await google.colab.output.renderOutput(dataTable, element);\n",
              "          const docLink = document.createElement('div');\n",
              "          docLink.innerHTML = docLinkHtml;\n",
              "          element.appendChild(docLink);\n",
              "        }\n",
              "      </script>\n",
              "    </div>\n",
              "  </div>\n",
              "  "
            ],
            "text/plain": [
              "           Country                Currency  curr.count\n",
              "0        Australia               Dollar($)          24\n",
              "1           Brazil      Brazilian Real(R$)          60\n",
              "2           Canada               Dollar($)           4\n",
              "3            India      Indian Rupees(Rs.)        8652\n",
              "4        Indonesia  Indonesian Rupiah(IDR)          21\n",
              "5      New Zealand           NewZealand($)          40\n",
              "6      Phillipines        Botswana Pula(P)          22\n",
              "7            Qatar         Qatari Rial(QR)          20\n",
              "8        Singapore               Dollar($)          20\n",
              "9     South Africa                 Rand(R)          60\n",
              "10       Sri Lanka   Sri Lankan Rupee(LKR)          20\n",
              "11          Turkey        Turkish Lira(TL)          34\n",
              "12             UAE      Emirati Diram(AED)          60\n",
              "13  United Kingdom              Pounds(£)          80\n",
              "14   United States               Dollar($)         434"
            ]
          },
          "metadata": {},
          "execution_count": 32
        }
      ]
    },
    {
      "cell_type": "code",
      "source": [
        "sns.lineplot(data=curencycount, x='Country', y='curr.count')"
      ],
      "metadata": {
        "colab": {
          "base_uri": "https://localhost:8080/",
          "height": 405
        },
        "id": "S9Vzb5Dlw7B4",
        "outputId": "c1ef5df6-d08a-466f-b6af-8ebaa6f23a78"
      },
      "execution_count": null,
      "outputs": [
        {
          "output_type": "execute_result",
          "data": {
            "text/plain": [
              "<matplotlib.axes._subplots.AxesSubplot at 0x7f44c9775550>"
            ]
          },
          "metadata": {},
          "execution_count": 33
        },
        {
          "output_type": "display_data",
          "data": {
            "image/png": "[encoded data removed]",
            "text/plain": [
              "<Figure size 864x432 with 1 Axes>"
            ]
          },
          "metadata": {
            "needs_background": "light"
          }
        }
      ]
    },
    {
      "cell_type": "markdown",
      "source": [
        "**------WE CAN SEE THAT INDIA DID THE MAXIMUM TRANSACTION OF CURRENCY.WHICH MEANS INDIA USES THE ZOMATO MOST-----**"
      ],
      "metadata": {
        "id": "mkcN4COgnlxL"
      }
    },
    {
      "cell_type": "markdown",
      "source": [
        "####**QUESTION(4)---WHICH COUNTRIES DO HAVE ONLINE DELIVERY OPTION?**"
      ],
      "metadata": {
        "id": "GtbSIq3dn7yw"
      }
    },
    {
      "cell_type": "code",
      "source": [
        "#which country do have online delivery\n",
        "final_df[final_df['Has Online delivery']=='Yes'].Country.value_counts()"
      ],
      "metadata": {
        "colab": {
          "base_uri": "https://localhost:8080/"
        },
        "id": "v7H8fVTs5Fkr",
        "outputId": "ae7c9602-ee77-448c-b94e-767e84bad377"
      },
      "execution_count": null,
      "outputs": [
        {
          "output_type": "execute_result",
          "data": {
            "text/plain": [
              "India    2423\n",
              "UAE        28\n",
              "Name: Country, dtype: int64"
            ]
          },
          "metadata": {},
          "execution_count": 34
        }
      ]
    },
    {
      "cell_type": "code",
      "source": [
        "#total count of online delivery\n",
        "sns.countplot(data=final_df, x='Has Online delivery')"
      ],
      "metadata": {
        "colab": {
          "base_uri": "https://localhost:8080/",
          "height": 405
        },
        "id": "I0LD8MC4yrBm",
        "outputId": "3891154f-907a-47d3-b9b4-cb2cf03d54b4"
      },
      "execution_count": null,
      "outputs": [
        {
          "output_type": "execute_result",
          "data": {
            "text/plain": [
              "<matplotlib.axes._subplots.AxesSubplot at 0x7f44c9713ad0>"
            ]
          },
          "metadata": {},
          "execution_count": 35
        },
        {
          "output_type": "display_data",
          "data": {
            "image/png": "[encoded data removed]",
            "text/plain": [
              "<Figure size 864x432 with 1 Axes>"
            ]
          },
          "metadata": {
            "needs_background": "light"
          }
        }
      ]
    },
    {
      "cell_type": "markdown",
      "source": [
        "**total count of online delivery is 2451.(india-2423 and UAE=28)**"
      ],
      "metadata": {
        "id": "4I0lDO9MyxcU"
      }
    },
    {
      "cell_type": "code",
      "source": [
        "#Which country have or have not online delivery option\n",
        "online_del=final_df[['Has Online delivery','Country']].groupby(['Has Online delivery','Country']).size().reset_index().rename(columns={0:'count'})\n",
        "online_del"
      ],
      "metadata": {
        "colab": {
          "base_uri": "https://localhost:8080/",
          "height": 582
        },
        "id": "I_dRk6KP7XpL",
        "outputId": "64f453ca-05b0-4ac1-c9bc-ff3596404be4"
      },
      "execution_count": null,
      "outputs": [
        {
          "output_type": "execute_result",
          "data": {
            "text/html": [
              "\n",
              "  <div id=\"df-fda739b6-8a48-4635-819d-1ca17dda712d\">\n",
              "    <div class=\"colab-df-container\">\n",
              "      <div>\n",
              "<style scoped>\n",
              "    .dataframe tbody tr th:only-of-type {\n",
              "        vertical-align: middle;\n",
              "    }\n",
              "\n",
              "    .dataframe tbody tr th {\n",
              "        vertical-align: top;\n",
              "    }\n",
              "\n",
              "    .dataframe thead th {\n",
              "        text-align: right;\n",
              "    }\n",
              "</style>\n",
              "<table border=\"1\" class=\"dataframe\">\n",
              "  <thead>\n",
              "    <tr style=\"text-align: right;\">\n",
              "      <th></th>\n",
              "      <th>Has Online delivery</th>\n",
              "      <th>Country</th>\n",
              "      <th>count</th>\n",
              "    </tr>\n",
              "  </thead>\n",
              "  <tbody>\n",
              "    <tr>\n",
              "      <th>0</th>\n",
              "      <td>No</td>\n",
              "      <td>Australia</td>\n",
              "      <td>24</td>\n",
              "    </tr>\n",
              "    <tr>\n",
              "      <th>1</th>\n",
              "      <td>No</td>\n",
              "      <td>Brazil</td>\n",
              "      <td>60</td>\n",
              "    </tr>\n",
              "    <tr>\n",
              "      <th>2</th>\n",
              "      <td>No</td>\n",
              "      <td>Canada</td>\n",
              "      <td>4</td>\n",
              "    </tr>\n",
              "    <tr>\n",
              "      <th>3</th>\n",
              "      <td>No</td>\n",
              "      <td>India</td>\n",
              "      <td>6229</td>\n",
              "    </tr>\n",
              "    <tr>\n",
              "      <th>4</th>\n",
              "      <td>No</td>\n",
              "      <td>Indonesia</td>\n",
              "      <td>21</td>\n",
              "    </tr>\n",
              "    <tr>\n",
              "      <th>5</th>\n",
              "      <td>No</td>\n",
              "      <td>New Zealand</td>\n",
              "      <td>40</td>\n",
              "    </tr>\n",
              "    <tr>\n",
              "      <th>6</th>\n",
              "      <td>No</td>\n",
              "      <td>Phillipines</td>\n",
              "      <td>22</td>\n",
              "    </tr>\n",
              "    <tr>\n",
              "      <th>7</th>\n",
              "      <td>No</td>\n",
              "      <td>Qatar</td>\n",
              "      <td>20</td>\n",
              "    </tr>\n",
              "    <tr>\n",
              "      <th>8</th>\n",
              "      <td>No</td>\n",
              "      <td>Singapore</td>\n",
              "      <td>20</td>\n",
              "    </tr>\n",
              "    <tr>\n",
              "      <th>9</th>\n",
              "      <td>No</td>\n",
              "      <td>South Africa</td>\n",
              "      <td>60</td>\n",
              "    </tr>\n",
              "    <tr>\n",
              "      <th>10</th>\n",
              "      <td>No</td>\n",
              "      <td>Sri Lanka</td>\n",
              "      <td>20</td>\n",
              "    </tr>\n",
              "    <tr>\n",
              "      <th>11</th>\n",
              "      <td>No</td>\n",
              "      <td>Turkey</td>\n",
              "      <td>34</td>\n",
              "    </tr>\n",
              "    <tr>\n",
              "      <th>12</th>\n",
              "      <td>No</td>\n",
              "      <td>UAE</td>\n",
              "      <td>32</td>\n",
              "    </tr>\n",
              "    <tr>\n",
              "      <th>13</th>\n",
              "      <td>No</td>\n",
              "      <td>United Kingdom</td>\n",
              "      <td>80</td>\n",
              "    </tr>\n",
              "    <tr>\n",
              "      <th>14</th>\n",
              "      <td>No</td>\n",
              "      <td>United States</td>\n",
              "      <td>434</td>\n",
              "    </tr>\n",
              "    <tr>\n",
              "      <th>15</th>\n",
              "      <td>Yes</td>\n",
              "      <td>India</td>\n",
              "      <td>2423</td>\n",
              "    </tr>\n",
              "    <tr>\n",
              "      <th>16</th>\n",
              "      <td>Yes</td>\n",
              "      <td>UAE</td>\n",
              "      <td>28</td>\n",
              "    </tr>\n",
              "  </tbody>\n",
              "</table>\n",
              "</div>\n",
              "      <button class=\"colab-df-convert\" onclick=\"convertToInteractive('df-fda739b6-8a48-4635-819d-1ca17dda712d')\"\n",
              "              title=\"Convert this dataframe to an interactive table.\"\n",
              "              style=\"display:none;\">\n",
              "        \n",
              "  <svg xmlns=\"http://www.w3.org/2000/svg\" height=\"24px\"viewBox=\"0 0 24 24\"\n",
              "       width=\"24px\">\n",
              "    <path d=\"M0 0h24v24H0V0z\" fill=\"none\"/>\n",
              "    <path d=\"M18.56 5.44l.94 2.06.94-2.06 2.06-.94-2.06-.94-.94-2.06-.94 2.06-2.06.94zm-11 1L8.5 8.5l.94-2.06 2.06-.94-2.06-.94L8.5 2.5l-.94 2.06-2.06.94zm10 10l.94 2.06.94-2.06 2.06-.94-2.06-.94-.94-2.06-.94 2.06-2.06.94z\"/><path d=\"M17.41 7.96l-1.37-1.37c-.4-.4-.92-.59-1.43-.59-.52 0-1.04.2-1.43.59L10.3 9.45l-7.72 7.72c-.78.78-.78 2.05 0 2.83L4 21.41c.39.39.9.59 1.41.59.51 0 1.02-.2 1.41-.59l7.78-7.78 2.81-2.81c.8-.78.8-2.07 0-2.86zM5.41 20L4 18.59l7.72-7.72 1.47 1.35L5.41 20z\"/>\n",
              "  </svg>\n",
              "      </button>\n",
              "      \n",
              "  <style>\n",
              "    .colab-df-container {\n",
              "      display:flex;\n",
              "      flex-wrap:wrap;\n",
              "      gap: 12px;\n",
              "    }\n",
              "\n",
              "    .colab-df-convert {\n",
              "      background-color: #E8F0FE;\n",
              "      border: none;\n",
              "      border-radius: 50%;\n",
              "      cursor: pointer;\n",
              "      display: none;\n",
              "      fill: #1967D2;\n",
              "      height: 32px;\n",
              "      padding: 0 0 0 0;\n",
              "      width: 32px;\n",
              "    }\n",
              "\n",
              "    .colab-df-convert:hover {\n",
              "      background-color: #E2EBFA;\n",
              "      box-shadow: 0px 1px 2px rgba(60, 64, 67, 0.3), 0px 1px 3px 1px rgba(60, 64, 67, 0.15);\n",
              "      fill: #174EA6;\n",
              "    }\n",
              "\n",
              "    [theme=dark] .colab-df-convert {\n",
              "      background-color: #3B4455;\n",
              "      fill: #D2E3FC;\n",
              "    }\n",
              "\n",
              "    [theme=dark] .colab-df-convert:hover {\n",
              "      background-color: #434B5C;\n",
              "      box-shadow: 0px 1px 3px 1px rgba(0, 0, 0, 0.15);\n",
              "      filter: drop-shadow(0px 1px 2px rgba(0, 0, 0, 0.3));\n",
              "      fill: #FFFFFF;\n",
              "    }\n",
              "  </style>\n",
              "\n",
              "      <script>\n",
              "        const buttonEl =\n",
              "          document.querySelector('#df-fda739b6-8a48-4635-819d-1ca17dda712d button.colab-df-convert');\n",
              "        buttonEl.style.display =\n",
              "          google.colab.kernel.accessAllowed ? 'block' : 'none';\n",
              "\n",
              "        async function convertToInteractive(key) {\n",
              "          const element = document.querySelector('#df-fda739b6-8a48-4635-819d-1ca17dda712d');\n",
              "          const dataTable =\n",
              "            await google.colab.kernel.invokeFunction('convertToInteractive',\n",
              "                                                     [key], {});\n",
              "          if (!dataTable) return;\n",
              "\n",
              "          const docLinkHtml = 'Like what you see? Visit the ' +\n",
              "            '<a target=\"_blank\" href=https://colab.research.google.com/notebooks/data_table.ipynb>data table notebook</a>'\n",
              "            + ' to learn more about interactive tables.';\n",
              "          element.innerHTML = '';\n",
              "          dataTable['output_type'] = 'display_data';\n",
              "          await google.colab.output.renderOutput(dataTable, element);\n",
              "          const docLink = document.createElement('div');\n",
              "          docLink.innerHTML = docLinkHtml;\n",
              "          element.appendChild(docLink);\n",
              "        }\n",
              "      </script>\n",
              "    </div>\n",
              "  </div>\n",
              "  "
            ],
            "text/plain": [
              "   Has Online delivery         Country  count\n",
              "0                   No       Australia     24\n",
              "1                   No          Brazil     60\n",
              "2                   No          Canada      4\n",
              "3                   No           India   6229\n",
              "4                   No       Indonesia     21\n",
              "5                   No     New Zealand     40\n",
              "6                   No     Phillipines     22\n",
              "7                   No           Qatar     20\n",
              "8                   No       Singapore     20\n",
              "9                   No    South Africa     60\n",
              "10                  No       Sri Lanka     20\n",
              "11                  No          Turkey     34\n",
              "12                  No             UAE     32\n",
              "13                  No  United Kingdom     80\n",
              "14                  No   United States    434\n",
              "15                 Yes           India   2423\n",
              "16                 Yes             UAE     28"
            ]
          },
          "metadata": {},
          "execution_count": 36
        }
      ]
    },
    {
      "cell_type": "code",
      "source": [
        "online_del.plot(kind='bar')"
      ],
      "metadata": {
        "id": "y8SEKwCzzBaR",
        "colab": {
          "base_uri": "https://localhost:8080/",
          "height": 393
        },
        "outputId": "8f642ee0-930a-4348-9e9e-96358b1cd834"
      },
      "execution_count": null,
      "outputs": [
        {
          "output_type": "execute_result",
          "data": {
            "text/plain": [
              "<matplotlib.axes._subplots.AxesSubplot at 0x7f44c94aaa50>"
            ]
          },
          "metadata": {},
          "execution_count": 41
        },
        {
          "output_type": "display_data",
          "data": {
            "image/png": "[encoded data removed]",
            "text/plain": [
              "<Figure size 864x432 with 1 Axes>"
            ]
          },
          "metadata": {
            "needs_background": "light"
          }
        }
      ]
    },
    {
      "cell_type": "markdown",
      "source": [
        "**------------online delivery are available in India(in 2423 regions) and UAE(in 28 regions)----------------.**"
      ],
      "metadata": {
        "id": "ILqlQ5on78zq"
      }
    },
    {
      "cell_type": "markdown",
      "source": [
        "####**QUESTION(5)---WHICH REGION IN INDIA HAS THE MAXIMUM NUMBER OF ZOMATO?**"
      ],
      "metadata": {
        "id": "bj5jSTUkp_Qa"
      }
    },
    {
      "cell_type": "code",
      "source": [
        "\n",
        "final_df.City.value_counts().index"
      ],
      "metadata": {
        "id": "2a2aLW2T8HGk",
        "colab": {
          "base_uri": "https://localhost:8080/"
        },
        "outputId": "dceb2660-7fa7-4b7e-c3da-fc92398c5131"
      },
      "execution_count": null,
      "outputs": [
        {
          "output_type": "execute_result",
          "data": {
            "text/plain": [
              "Index(['New Delhi', 'Gurgaon', 'Noida', 'Faridabad', 'Ghaziabad',\n",
              "       'Bhubaneshwar', 'Amritsar', 'Ahmedabad', 'Lucknow', 'Guwahati',\n",
              "       ...\n",
              "       'Ojo Caliente', 'Montville', 'Monroe', 'Miller', 'Middleton Beach',\n",
              "       'Panchkula', 'Mc Millan', 'Mayfield', 'Macedon', 'Vineland Station'],\n",
              "      dtype='object', length=141)"
            ]
          },
          "metadata": {},
          "execution_count": 42
        }
      ]
    },
    {
      "cell_type": "code",
      "source": [
        "#pie chart of citiesdistribution\n",
        "plt.pie(final_df.City.value_counts()[:5].values,labels=final_df.City.value_counts()[:5].index,autopct='%1.2f%%')\n",
        "plt.show()"
      ],
      "metadata": {
        "id": "ZHlyjuYr8wPq",
        "colab": {
          "base_uri": "https://localhost:8080/",
          "height": 357
        },
        "outputId": "77f0e214-8c64-43e5-f3e9-282e8c470728"
      },
      "execution_count": null,
      "outputs": [
        {
          "output_type": "display_data",
          "data": {
            "image/png": "[encoded data removed]",
            "text/plain": [
              "<Figure size 864x432 with 1 Axes>"
            ]
          },
          "metadata": {}
        }
      ]
    },
    {
      "cell_type": "markdown",
      "source": [
        "**-----------------------IN INDIA,New Delhi has the maximum number of zomato.------------------------------------**"
      ],
      "metadata": {
        "id": "hDWHWlau93Vr"
      }
    },
    {
      "cell_type": "markdown",
      "source": [
        "####**QUESTION(6)---WHICH CUISINES ZOMATO  HAVE MAXIMUM ?**"
      ],
      "metadata": {
        "id": "eT_QGxj9qhRp"
      }
    },
    {
      "cell_type": "code",
      "source": [
        "#find the top 10 cuisines\n",
        "final_df['Cuisines'].value_counts().head()"
      ],
      "metadata": {
        "id": "YDkwCxqR-Kwz",
        "colab": {
          "base_uri": "https://localhost:8080/"
        },
        "outputId": "5cbc0a46-8539-42b2-a660-37cf025bddcd"
      },
      "execution_count": null,
      "outputs": [
        {
          "output_type": "execute_result",
          "data": {
            "text/plain": [
              "North Indian            936\n",
              "North Indian Chinese    511\n",
              "Chinese                 354\n",
              "Fast Food               354\n",
              "North Indian Mughlai    334\n",
              "Name: Cuisines, dtype: int64"
            ]
          },
          "metadata": {},
          "execution_count": 44
        }
      ]
    },
    {
      "cell_type": "code",
      "source": [
        "x=final_df['Cuisines'].value_counts()[0:15]\n",
        "sns.barplot(x,x.index)\n",
        "plt.title(\"Restaurant types\")\n",
        "plt.ylabel('Cuisines')"
      ],
      "metadata": {
        "id": "HdFijaogrg5u",
        "colab": {
          "base_uri": "https://localhost:8080/",
          "height": 476
        },
        "outputId": "1a49ac87-247e-47e1-c0d1-d911b8188b9b"
      },
      "execution_count": null,
      "outputs": [
        {
          "output_type": "stream",
          "name": "stderr",
          "text": [
            "/usr/local/lib/python3.7/dist-packages/seaborn/_decorators.py:43: FutureWarning: Pass the following variables as keyword args: x, y. From version 0.12, the only valid positional argument will be `data`, and passing other arguments without an explicit keyword will result in an error or misinterpretation.\n",
            "  FutureWarning\n"
          ]
        },
        {
          "output_type": "execute_result",
          "data": {
            "text/plain": [
              "Text(0, 0.5, 'Cuisines')"
            ]
          },
          "metadata": {},
          "execution_count": 45
        },
        {
          "output_type": "display_data",
          "data": {
            "image/png": "[encoded data removed]",
            "text/plain": [
              "<Figure size 864x432 with 1 Axes>"
            ]
          },
          "metadata": {
            "needs_background": "light"
          }
        }
      ]
    },
    {
      "cell_type": "markdown",
      "source": [
        "**--------------------------Zomato has the maximum North Indian Cuisines.---------------------------------**"
      ],
      "metadata": {
        "id": "oaVXhDttF_mI"
      }
    },
    {
      "cell_type": "markdown",
      "source": [
        "####**QUESTION(7)---DOES ONLINE DELIVERY IMPACTS ON THE RATINGS OF ZOMATO?**"
      ],
      "metadata": {
        "id": "Rr1xyprVrMqv"
      }
    },
    {
      "cell_type": "code",
      "source": [
        "#relation between online delivery and ratings\n",
        "final_df.groupby('Has Online delivery')['Aggregate rating'].mean().plot.bar()"
      ],
      "metadata": {
        "id": "hREK5h-CGO0B",
        "colab": {
          "base_uri": "https://localhost:8080/",
          "height": 411
        },
        "outputId": "29c7a4ea-b47d-45ad-f779-87f077fd30c8"
      },
      "execution_count": null,
      "outputs": [
        {
          "output_type": "execute_result",
          "data": {
            "text/plain": [
              "<matplotlib.axes._subplots.AxesSubplot at 0x7f44c92a61d0>"
            ]
          },
          "metadata": {},
          "execution_count": 46
        },
        {
          "output_type": "display_data",
          "data": {
            "image/png": "[encoded data removed]",
            "text/plain": [
              "<Figure size 864x432 with 1 Axes>"
            ]
          },
          "metadata": {
            "needs_background": "light"
          }
        }
      ]
    },
    {
      "cell_type": "markdown",
      "source": [
        "**------------------Avaliblity of online ordering facility has impact on rating.-----------------------**\n",
        "\n"
      ],
      "metadata": {
        "id": "0GGv2Dx1JuMn"
      }
    },
    {
      "cell_type": "markdown",
      "source": [
        "####**QUESTION(8)---DOES TABLE BOOKING IMPACTS ON THE RATINGS OF ZOMATO?**"
      ],
      "metadata": {
        "id": "Cv-7Ymt_r6To"
      }
    },
    {
      "cell_type": "code",
      "source": [
        "final_df.groupby('Has Table booking')['Aggregate rating'].mean().plot.bar()\n",
        "plt.ylabel('Rating')"
      ],
      "metadata": {
        "id": "VR40wJ3iJu0k",
        "colab": {
          "base_uri": "https://localhost:8080/",
          "height": 411
        },
        "outputId": "312e8010-235c-4e86-c5db-8dec00f5f701"
      },
      "execution_count": null,
      "outputs": [
        {
          "output_type": "execute_result",
          "data": {
            "text/plain": [
              "Text(0, 0.5, 'Rating')"
            ]
          },
          "metadata": {},
          "execution_count": 47
        },
        {
          "output_type": "display_data",
          "data": {
            "image/png": "[encoded data removed]",
            "text/plain": [
              "<Figure size 864x432 with 1 Axes>"
            ]
          },
          "metadata": {
            "needs_background": "light"
          }
        }
      ]
    },
    {
      "cell_type": "markdown",
      "source": [
        "**-----------------Restaurants with table booking facility have higher ratings.-----------------**"
      ],
      "metadata": {
        "id": "9btKG1YGK46s"
      }
    },
    {
      "cell_type": "markdown",
      "source": [
        "####**QUESTION(9)---WHICH COUNTRY HAVE THE HIGHEST AVERAGE COST FOR 2 PEOPLE IN ZOMATO?**(IF COMPARED WITH INDIAN CURRENCY)"
      ],
      "metadata": {
        "id": "pqgCsoGPsJxF"
      }
    },
    {
      "cell_type": "code",
      "source": [
        "#distribution of cost for 2 peoples\n",
        "\n",
        "sns.distplot(final_df['Average Cost for two'])"
      ],
      "metadata": {
        "id": "unrGLF5nLHya",
        "colab": {
          "base_uri": "https://localhost:8080/",
          "height": 460
        },
        "outputId": "c34a12b8-a5a0-4ab8-c2ad-871a2036dedb"
      },
      "execution_count": null,
      "outputs": [
        {
          "output_type": "stream",
          "name": "stderr",
          "text": [
            "/usr/local/lib/python3.7/dist-packages/seaborn/distributions.py:2619: FutureWarning: `distplot` is a deprecated function and will be removed in a future version. Please adapt your code to use either `displot` (a figure-level function with similar flexibility) or `histplot` (an axes-level function for histograms).\n",
            "  warnings.warn(msg, FutureWarning)\n"
          ]
        },
        {
          "output_type": "execute_result",
          "data": {
            "text/plain": [
              "<matplotlib.axes._subplots.AxesSubplot at 0x7f44cb389e50>"
            ]
          },
          "metadata": {},
          "execution_count": 48
        },
        {
          "output_type": "display_data",
          "data": {
            "image/png": "[encoded data removed]",
            "text/plain": [
              "<Figure size 864x432 with 1 Axes>"
            ]
          },
          "metadata": {
            "needs_background": "light"
          }
        }
      ]
    },
    {
      "cell_type": "code",
      "source": [
        "final_df.groupby('Currency')['Average Cost for two'].max()"
      ],
      "metadata": {
        "id": "MgZV1So8Yu_b",
        "colab": {
          "base_uri": "https://localhost:8080/"
        },
        "outputId": "d829b571-abf3-4320-8e8c-191195bae187"
      },
      "execution_count": null,
      "outputs": [
        {
          "output_type": "execute_result",
          "data": {
            "text/plain": [
              "Currency\n",
              "Botswana Pula(P)            6000\n",
              "Brazilian Real(R$)           400\n",
              "Dollar($)                    500\n",
              "Emirati Diram(AED)           500\n",
              "Indian Rupees(Rs.)          8000\n",
              "Indonesian Rupiah(IDR)    800000\n",
              "NewZealand($)                200\n",
              "Pounds(£)                   230\n",
              "Qatari Rial(QR)              550\n",
              "Rand(R)                     3210\n",
              "Sri Lankan Rupee(LKR)       4500\n",
              "Turkish Lira(TL)             400\n",
              "Name: Average Cost for two, dtype: int64"
            ]
          },
          "metadata": {},
          "execution_count": 49
        }
      ]
    },
    {
      "cell_type": "markdown",
      "source": [
        "according to our analyse,after converting all currency into rupees...we see that according to each country currency if we convert them into indian rupee...then... highest average cost for 2 people ...---> is of Phillipines...\n",
        "\n",
        "and lowest of Shri Lanka..\n",
        "\n",
        "that means**\n",
        "\n",
        "***--------------- Phillipines(Rs.39000) is expensive according to indian rupees\n",
        "and shri lanka(Rs.1659) is the cheapest ..------------***\n",
        "\n",
        "**wherease india have average cost of Rs.8000 for 2 people ------------------**"
      ],
      "metadata": {
        "id": "n6PFoop1Ommc"
      }
    },
    {
      "cell_type": "markdown",
      "source": [
        "##**CONCLUSION**"
      ],
      "metadata": {
        "id": "75EdGJK1tRhx"
      }
    },
    {
      "cell_type": "markdown",
      "source": [
        "**After exploring and analysing through data and visualization, we obtained some interesting insights into the Zomato.....**\n",
        "\n",
        "Zomato are benefiting from an explosive growth in users as people order in everything from food to groceries instead of dining out or visiting stores during the pandemic. Some of these pandemic-era habits are unlikely to change.\n",
        "\n",
        "1.India has the highest count of Zomato\n",
        "\n",
        "2.Zomato gets  Maximum ratings betwewn 2.5 and 3.4\n",
        "\n",
        "3.India did the maximum transaction.so,it shows that India has the highest order in Zomato.\n",
        "\n",
        "4.only India and UAE have online delivery service\n",
        "\n",
        "5.Delhi has the maximum number of Zomato.\n",
        "\n",
        "6.Zomato has the maximum North Indian Cuisines.\n",
        "\n",
        "7.Avaliblity of online ordering facility has impact on rating\n",
        "\n",
        "8. Phillipines(Rs.39000) is expensive according to indian rupees and shri lanka(Rs.1659) is the cheapest ..------------\n",
        "\n",
        "wherease india have average cost of Rs.8000 for 2 people"
      ],
      "metadata": {
        "id": "6wQZfFbjtbXg"
      }
    }
  ]
}